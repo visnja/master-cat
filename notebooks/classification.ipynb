{
 "cells": [
  {
   "cell_type": "code",
   "execution_count": 1,
   "metadata": {},
   "outputs": [],
   "source": [
    "%matplotlib inline\n",
    "import re\n",
    "import matplotlib\n",
    "import numpy as np\n",
    "import matplotlib.pyplot as plt\n",
    "import pandas as pd\n",
    "from sklearn.model_selection import train_test_split\n",
    "from sklearn.feature_extraction.text import TfidfVectorizer\n",
    "from sklearn.naive_bayes import MultinomialNB\n",
    "from sklearn.metrics import accuracy_score, balanced_accuracy_score\n",
    "from sklearn.multiclass import OneVsRestClassifier\n",
    "from nltk.corpus import stopwords\n",
    "stop_words = set(stopwords.words('english'))\n",
    "from sklearn.svm import LinearSVC\n",
    "from sklearn.linear_model import LogisticRegression\n",
    "from sklearn.pipeline import Pipeline"
   ]
  },
  {
   "cell_type": "code",
   "execution_count": 2,
   "metadata": {},
   "outputs": [],
   "source": [
    "from pymongo import MongoClient\n",
    "connection=MongoClient(\"mongodb://localhost:27017/crawler.contents\")\n",
    "\n",
    "db=connection.get_database()\n",
    "articles = pd.DataFrame(list(db.contents.find()))\n",
    "articles = articles.drop(columns=['visited','alternateImageUrl','created_at','contentType','date','icon','publishedAt','source','url'])\n"
   ]
  },
  {
   "cell_type": "code",
   "execution_count": 3,
   "metadata": {},
   "outputs": [],
   "source": [
    "classes = list(set(articles.classes_target.dropna().values.sum()))"
   ]
  },
  {
   "cell_type": "code",
   "execution_count": 4,
   "metadata": {},
   "outputs": [
    {
     "name": "stdout",
     "output_type": "stream",
     "text": [
      "[('EUR', 12751), ('NZD', 2953), ('OIL', 1988), ('BTC', 1096), ('ARS', 17), ('JPY', 6399), ('CNY', 1522), ('TRY', 1069), ('CAD', 2620), ('MXN', 582), ('AUD', 4946), ('USD', 19259), ('INDEX', 10092), ('CHF', 1600), ('GBP', 7172), ('TWD', 72), ('XAU', 1446), ('RUB', 352)]\n"
     ]
    }
   ],
   "source": [
    "df = pd.concat([articles,articles['classes_target'].fillna(\"\").map(lambda x: \",\".join(x)).str.get_dummies(sep=\",\")],axis=1)\n",
    "counts = []\n",
    "for i in classes:\n",
    "    counts.append((i,df[i].sum()))\n",
    "    \n",
    "print(counts)\n"
   ]
  },
  {
   "cell_type": "code",
   "execution_count": 5,
   "metadata": {},
   "outputs": [],
   "source": [
    "stats = pd.DataFrame(counts, columns=['cat','count'])"
   ]
  },
  {
   "cell_type": "code",
   "execution_count": 6,
   "metadata": {},
   "outputs": [
    {
     "data": {
      "text/html": [
       "<div>\n",
       "<style scoped>\n",
       "    .dataframe tbody tr th:only-of-type {\n",
       "        vertical-align: middle;\n",
       "    }\n",
       "\n",
       "    .dataframe tbody tr th {\n",
       "        vertical-align: top;\n",
       "    }\n",
       "\n",
       "    .dataframe thead th {\n",
       "        text-align: right;\n",
       "    }\n",
       "</style>\n",
       "<table border=\"1\" class=\"dataframe\">\n",
       "  <thead>\n",
       "    <tr style=\"text-align: right;\">\n",
       "      <th></th>\n",
       "      <th>cat</th>\n",
       "      <th>count</th>\n",
       "    </tr>\n",
       "  </thead>\n",
       "  <tbody>\n",
       "    <tr>\n",
       "      <th>0</th>\n",
       "      <td>EUR</td>\n",
       "      <td>12751</td>\n",
       "    </tr>\n",
       "    <tr>\n",
       "      <th>1</th>\n",
       "      <td>NZD</td>\n",
       "      <td>2953</td>\n",
       "    </tr>\n",
       "    <tr>\n",
       "      <th>2</th>\n",
       "      <td>OIL</td>\n",
       "      <td>1988</td>\n",
       "    </tr>\n",
       "    <tr>\n",
       "      <th>3</th>\n",
       "      <td>BTC</td>\n",
       "      <td>1096</td>\n",
       "    </tr>\n",
       "    <tr>\n",
       "      <th>4</th>\n",
       "      <td>ARS</td>\n",
       "      <td>17</td>\n",
       "    </tr>\n",
       "    <tr>\n",
       "      <th>5</th>\n",
       "      <td>JPY</td>\n",
       "      <td>6399</td>\n",
       "    </tr>\n",
       "    <tr>\n",
       "      <th>6</th>\n",
       "      <td>CNY</td>\n",
       "      <td>1522</td>\n",
       "    </tr>\n",
       "    <tr>\n",
       "      <th>7</th>\n",
       "      <td>TRY</td>\n",
       "      <td>1069</td>\n",
       "    </tr>\n",
       "    <tr>\n",
       "      <th>8</th>\n",
       "      <td>CAD</td>\n",
       "      <td>2620</td>\n",
       "    </tr>\n",
       "    <tr>\n",
       "      <th>9</th>\n",
       "      <td>MXN</td>\n",
       "      <td>582</td>\n",
       "    </tr>\n",
       "    <tr>\n",
       "      <th>10</th>\n",
       "      <td>AUD</td>\n",
       "      <td>4946</td>\n",
       "    </tr>\n",
       "    <tr>\n",
       "      <th>11</th>\n",
       "      <td>USD</td>\n",
       "      <td>19259</td>\n",
       "    </tr>\n",
       "    <tr>\n",
       "      <th>12</th>\n",
       "      <td>INDEX</td>\n",
       "      <td>10092</td>\n",
       "    </tr>\n",
       "    <tr>\n",
       "      <th>13</th>\n",
       "      <td>CHF</td>\n",
       "      <td>1600</td>\n",
       "    </tr>\n",
       "    <tr>\n",
       "      <th>14</th>\n",
       "      <td>GBP</td>\n",
       "      <td>7172</td>\n",
       "    </tr>\n",
       "    <tr>\n",
       "      <th>15</th>\n",
       "      <td>TWD</td>\n",
       "      <td>72</td>\n",
       "    </tr>\n",
       "    <tr>\n",
       "      <th>16</th>\n",
       "      <td>XAU</td>\n",
       "      <td>1446</td>\n",
       "    </tr>\n",
       "    <tr>\n",
       "      <th>17</th>\n",
       "      <td>RUB</td>\n",
       "      <td>352</td>\n",
       "    </tr>\n",
       "  </tbody>\n",
       "</table>\n",
       "</div>"
      ],
      "text/plain": [
       "      cat  count\n",
       "0     EUR  12751\n",
       "1     NZD   2953\n",
       "2     OIL   1988\n",
       "3     BTC   1096\n",
       "4     ARS     17\n",
       "5     JPY   6399\n",
       "6     CNY   1522\n",
       "7     TRY   1069\n",
       "8     CAD   2620\n",
       "9     MXN    582\n",
       "10    AUD   4946\n",
       "11    USD  19259\n",
       "12  INDEX  10092\n",
       "13    CHF   1600\n",
       "14    GBP   7172\n",
       "15    TWD     72\n",
       "16    XAU   1446\n",
       "17    RUB    352"
      ]
     },
     "execution_count": 6,
     "metadata": {},
     "output_type": "execute_result"
    }
   ],
   "source": [
    "stats"
   ]
  },
  {
   "cell_type": "code",
   "execution_count": 7,
   "metadata": {},
   "outputs": [
    {
     "data": {
      "text/plain": [
       "Text(0.5, 0, 'category')"
      ]
     },
     "execution_count": 7,
     "metadata": {},
     "output_type": "execute_result"
    },
    {
     "data": {
      "image/png": "[encoded data removed]",
      "text/plain": [
       "<Figure size 576x360 with 1 Axes>"
      ]
     },
     "metadata": {
      "needs_background": "light"
     },
     "output_type": "display_data"
    }
   ],
   "source": [
    "stats.plot(x='cat', y='count', kind='bar', legend=False, grid=True, figsize=(8, 5))\n",
    "plt.title(\"Number of articles per category\")\n",
    "plt.ylabel('# of Occurrences', fontsize=12)\n",
    "plt.xlabel('category', fontsize=12)"
   ]
  },
  {
   "cell_type": "code",
   "execution_count": 8,
   "metadata": {},
   "outputs": [
    {
     "name": "stderr",
     "output_type": "stream",
     "text": [
      "/home/visnja/anaconda3/envs/python3.7-env/lib/python3.7/site-packages/ipykernel_launcher.py:2: FutureWarning: Dropping of nuisance columns in DataFrame reductions (with 'numeric_only=None') is deprecated; in a future version this will raise TypeError.  Select only valid columns before calling the reduction.\n",
      "  \n",
      "/home/visnja/anaconda3/envs/python3.7-env/lib/python3.7/site-packages/seaborn/_decorators.py:43: FutureWarning: Pass the following variables as keyword args: x, y. From version 0.12, the only valid positional argument will be `data`, and passing other arguments without an explicit keyword will result in an error or misinterpretation.\n",
      "  FutureWarning\n"
     ]
    },
    {
     "data": {
      "text/plain": [
       "Text(0.5, 0, '# of categories')"
      ]
     },
     "execution_count": 8,
     "metadata": {},
     "output_type": "execute_result"
    },
    {
     "data": {
      "image/png": "[encoded data removed]",
      "text/plain": [
       "<Figure size 576x360 with 1 Axes>"
      ]
     },
     "metadata": {
      "needs_background": "light"
     },
     "output_type": "display_data"
    }
   ],
   "source": [
    "import seaborn as sns\n",
    "rowsums = df.iloc[:,2:].sum(axis=1)\n",
    "x=rowsums.value_counts()#plot\n",
    "plt.figure(figsize=(8,5))\n",
    "ax = sns.barplot(x.index, x.values)\n",
    "plt.title(\"Multiple categories per comment\")\n",
    "plt.ylabel('# of Occurrences', fontsize=12)\n",
    "plt.xlabel('# of categories', fontsize=12)"
   ]
  },
  {
   "cell_type": "code",
   "execution_count": 9,
   "metadata": {},
   "outputs": [
    {
     "name": "stdout",
     "output_type": "stream",
     "text": [
      "Percentage of comments that are not labelled:\n",
      "0.09466671442386905\n"
     ]
    }
   ],
   "source": [
    "print('Percentage of comments that are not labelled:')\n",
    "print(len(df[(df['classes_target'].str.len()==0)]) / len(df))"
   ]
  },
  {
   "cell_type": "code",
   "execution_count": 10,
   "metadata": {},
   "outputs": [
    {
     "data": {
      "text/plain": [
       "<AxesSubplot:>"
      ]
     },
     "execution_count": 10,
     "metadata": {},
     "output_type": "execute_result"
    },
    {
     "data": {
      "image/png": "[encoded data removed]",
      "text/plain": [
       "<Figure size 432x288 with 1 Axes>"
      ]
     },
     "metadata": {
      "needs_background": "light"
     },
     "output_type": "display_data"
    }
   ],
   "source": [
    "lens = df.body.dropna().map(lambda x: \" \".join(x)).str.len()\n",
    "lens.hist(bins = np.arange(0,5000,50))"
   ]
  },
  {
   "cell_type": "code",
   "execution_count": 11,
   "metadata": {},
   "outputs": [],
   "source": [
    "def clean_text(text):\n",
    "    text = text.lower()\n",
    "    text = re.sub(r\"what's\", \"what is \", text)\n",
    "    text = re.sub(r\"\\'s\", \" \", text)\n",
    "    text = re.sub(r\"\\'ve\", \" have \", text)\n",
    "    text = re.sub(r\"can't\", \"can not \", text)\n",
    "    text = re.sub(r\"n't\", \" not \", text)\n",
    "    text = re.sub(r\"i'm\", \"i am \", text)\n",
    "    text = re.sub(r\"\\'re\", \" are \", text)\n",
    "    text = re.sub(r\"\\'d\", \" would \", text)\n",
    "    text = re.sub(r\"\\'ll\", \" will \", text)\n",
    "    text = re.sub(r\"\\'scuse\", \" excuse \", text)\n",
    "    text = re.sub('\\W', ' ', text)\n",
    "    text = re.sub('\\s+', ' ', text)\n",
    "    text = text.strip(' ')\n",
    "    return text"
   ]
  },
  {
   "cell_type": "code",
   "execution_count": 12,
   "metadata": {},
   "outputs": [
    {
     "name": "stdout",
     "output_type": "stream",
     "text": [
      "                        _id  \\\n",
      "0  623d62126e887c1f5ed1a34e   \n",
      "1  623d62126e887c1f5ed1a350   \n",
      "2  623d62126e887c1f5ed1a34c   \n",
      "3  623d62126e887c1f5ed1a351   \n",
      "4  623d62126e887c1f5ed1a352   \n",
      "\n",
      "                                               title  \\\n",
      "0  Risk currencies recover from Friday carnage, d...   \n",
      "1  Taiwan punishes Deutsche Bank, others in curre...   \n",
      "2  BoE hikes, Fed pivots, ECB rolls slow as pande...   \n",
      "3         Dollar extends rebound as U.S. yields rise   \n",
      "4  Dollar recovery pushes sterling below $1.35; U...   \n",
      "\n",
      "                                             summary  \\\n",
      "0  The Australian dollar and other riskier curren...   \n",
      "1  Taiwan's central bank said on Sunday it had ba...   \n",
      "2  (Reuters) -Britain became the first G7 economy...   \n",
      "3  The dollar edged higher across the board on Mo...   \n",
      "4  The pound was among the risk assets hurt by th...   \n",
      "\n",
      "                                                body  \\\n",
      "0  [By Reuters Staff, 3 MIN READ, TOKYO (Reuters)...   \n",
      "1  [By Reuters Staff, 3 MIN READ, TAIPEI (Reuters...   \n",
      "2  [Federal Reserve in Washington, U.S., November...   \n",
      "3  [By Saqib Iqbal Ahmed, 3 MIN READ, NEW YORK (R...   \n",
      "4  [By Elizabeth Howcroft, 3 MIN READ, LONDON (Re...   \n",
      "\n",
      "                          classes_target  \\\n",
      "0  [GBP, JPY, NZD, EUR, AUD, USD, INDEX]   \n",
      "1                             [TWD, USD]   \n",
      "2                           [INDEX, EUR]   \n",
      "3                        [GBP, USD, BTC]   \n",
      "4                 [GBP, INDEX, USD, EUR]   \n",
      "\n",
      "                            classes_body    classes_summary classes_title  \\\n",
      "0  [GBP, JPY, NZD, EUR, AUD, USD, INDEX]         [AUD, USD]         [USD]   \n",
      "1                             [TWD, USD]         [TWD, USD]            []   \n",
      "2                           [INDEX, EUR]              [EUR]       [INDEX]   \n",
      "3                        [GBP, USD, BTC]              [USD]         [USD]   \n",
      "4                 [GBP, INDEX, USD, EUR]  [GBP, INDEX, USD]    [GBP, USD]   \n",
      "\n",
      "   AUD  CAD  CNY  EUR  GBP  JPY  NZD  USD  \n",
      "0    1    0    0    1    1    1    1    1  \n",
      "1    0    0    0    0    0    0    0    1  \n",
      "2    0    0    0    1    0    0    0    0  \n",
      "3    0    0    0    0    1    0    0    1  \n",
      "4    0    0    0    1    1    0    0    1  \n"
     ]
    }
   ],
   "source": [
    "\n",
    "to_remove = ['ARS','MXN','OIL','XAU','TRY','INDEX','BTC','TWD','RUB','CHF']\n",
    "df = df.drop(labels=to_remove,axis=1)\n",
    "classes = [cls for cls in classes if cls not in to_remove]\n",
    "df['text_clean'] = df.body.map(lambda x: \" \".join(list(x)) if type(x) is list else \"\" ).map(lambda com : clean_text(com))"
   ]
  },
  {
   "cell_type": "code",
   "execution_count": 13,
   "metadata": {},
   "outputs": [],
   "source": [
    "df[classes].sum(axis=1)\n",
    "train, test = train_test_split(df[(df[classes].sum(axis=1)>0)], random_state=42, test_size=0.50, shuffle=True)"
   ]
  },
  {
   "cell_type": "code",
   "execution_count": null,
   "metadata": {},
   "outputs": [],
   "source": []
  },
  {
   "cell_type": "code",
   "execution_count": 14,
   "metadata": {},
   "outputs": [],
   "source": [
    "# NB_pipeline = Pipeline([\n",
    "#                 ('tfidf', TfidfVectorizer(stop_words=stop_words)),\n",
    "#                 ('clf', OneVsRestClassifier(MultinomialNB(\n",
    "#                     fit_prior=True, class_prior=None))),\n",
    "#             ])\n",
    "# for category in categories:\n",
    "#     print('... Processing {}'.format(category))\n",
    "#     # train the model using X_dtm & y\n",
    "#     NB_pipeline.fit(X_train, train[category])\n",
    "#     # compute the testing accuracy\n",
    "#     prediction = NB_pipeline.predict(X_test)\n",
    "#     print('Test accuracy is {}'.format(accuracy_score(test[category], prediction)))\n",
    "#     print('Balanced Test accuracy is {}'.format(balanced_accuracy_score(test[category], prediction)))"
   ]
  },
  {
   "cell_type": "code",
   "execution_count": 15,
   "metadata": {},
   "outputs": [],
   "source": [
    "# LogReg_pipeline = Pipeline([\n",
    "#                 ('tfidf', TfidfVectorizer(stop_words=stop_words)),\n",
    "#                 ('clf', OneVsRestClassifier(LogisticRegression(solver='sag'), n_jobs=1)),\n",
    "#             ])\n",
    "# for category in categories:\n",
    "#     print('... Processing {}'.format(category))\n",
    "#     # train the model using X_dtm & y\n",
    "#     LogReg_pipeline.fit(X_train, train[category])\n",
    "#     # compute the testing accuracy\n",
    "#     prediction = LogReg_pipeline.predict(X_test)\n",
    "#     print('Test accuracy is {}'.format(accuracy_score(test[category], prediction)))"
   ]
  },
  {
   "cell_type": "code",
   "execution_count": 16,
   "metadata": {},
   "outputs": [],
   "source": [
    "# SVC_pipeline = Pipeline([\n",
    "#                 ('tfidf', TfidfVectorizer(stop_words=stop_words)),\n",
    "#                 ('clf', OneVsRestClassifier(LinearSVC(), n_jobs=1)),\n",
    "#             ])\n",
    "# for category in categories:\n",
    "#     print('... Processing {}'.format(category))\n",
    "#     # train the model using X_dtm & y\n",
    "#     SVC_pipeline.fit(X_train, train[category])\n",
    "#     # compute the testing accuracy\n",
    "#     prediction = SVC_pipeline.predict(X_test)\n",
    "#     print('Test accuracy is {}'.format(accuracy_score(test[category], prediction)))"
   ]
  },
  {
   "cell_type": "code",
   "execution_count": 17,
   "metadata": {},
   "outputs": [
    {
     "data": {
      "text/plain": [
       "TfidfVectorizer(stop_words={'a', 'about', 'above', 'after', 'again', 'against',\n",
       "                            'ain', 'all', 'am', 'an', 'and', 'any', 'are',\n",
       "                            'aren', \"aren't\", 'as', 'at', 'be', 'because',\n",
       "                            'been', 'before', 'being', 'below', 'between',\n",
       "                            'both', 'but', 'by', 'can', 'couldn', \"couldn't\", ...})"
      ]
     },
     "execution_count": 17,
     "metadata": {},
     "output_type": "execute_result"
    }
   ],
   "source": [
    "vectorizer = TfidfVectorizer(stop_words=stop_words)\n",
    "vectorizer.fit(train.text_clean)\n",
    "vectorizer.fit(test.text_clean)\n"
   ]
  },
  {
   "cell_type": "code",
   "execution_count": 18,
   "metadata": {},
   "outputs": [],
   "source": [
    "# # using classifier chains\n",
    "# from skmultilearn.problem_transform import ClassifierChain\n",
    "# from sklearn.linear_model import LogisticRegression# initialize classifier chains multi-label classifier\n",
    "# classifier = ClassifierChain(LogisticRegression())# Training logistic regression model on train data\n",
    "# classifier.fit(x, y)# predict\n",
    "# predictions = classifier.predict(vectorizer.transform(X_test))# accuracy\n",
    "# print(\"Accuracy = \",accuracy_score(test.drop(labels=['_id','summary','body','text_clean','classes_target','classes_body','classes_summary','classes_title','title'],axis=1),predictions))\n",
    "# print(\"\\n\")"
   ]
  },
  {
   "cell_type": "code",
   "execution_count": 19,
   "metadata": {},
   "outputs": [],
   "source": [
    "n =400\n",
    "listdf = [train[i:i+n] for i in range(0,train.shape[0],n)]\n",
    "\n",
    "from skmultilearn.problem_transform import BinaryRelevance\n",
    "from sklearn.naive_bayes import GaussianNB# initialize binary relevance multi-label classifier\n",
    "# with a gaussian naive bayes base classifier\n",
    "classifier = BinaryRelevance(GaussianNB())# train\n",
    "# classifier.fit(x_train, y_train)# predict\n",
    "# predictions = classifier.predict(x_test)# accuracy\n",
    "# print(\"Accuracy = \",accuracy_score(y_test,predictions))"
   ]
  },
  {
   "cell_type": "code",
   "execution_count": 20,
   "metadata": {},
   "outputs": [],
   "source": [
    "for x in listdf:\n",
    "    X_train = vectorizer.transform(x.text_clean)\n",
    "    y_train = x.drop(labels=['_id','summary','body','text_clean','classes_target','classes_body','classes_summary','classes_title','title'],axis=1)\n",
    "    classifier.fit(X_train,y_train)"
   ]
  },
  {
   "cell_type": "code",
   "execution_count": 21,
   "metadata": {},
   "outputs": [],
   "source": [
    "listdf = [test[i:i+n] for i in range(0,test.shape[0],n)]\n",
    "predictions = []\n",
    "for x in listdf:\n",
    "    predictions.append(classifier.predict(vectorizer.transform(x.text_clean)))"
   ]
  },
  {
   "cell_type": "code",
   "execution_count": 22,
   "metadata": {},
   "outputs": [],
   "source": [
    "ee = [item[0].toarray()[0] for sub_list in predictions for item in sub_list]"
   ]
  },
  {
   "cell_type": "code",
   "execution_count": 26,
   "metadata": {},
   "outputs": [
    {
     "name": "stdout",
     "output_type": "stream",
     "text": [
      "11226\n"
     ]
    }
   ],
   "source": [
    "print(len(train))"
   ]
  },
  {
   "cell_type": "code",
   "execution_count": 27,
   "metadata": {},
   "outputs": [
    {
     "name": "stdout",
     "output_type": "stream",
     "text": [
      "Accuracy =  0.002939604489577766\n"
     ]
    }
   ],
   "source": [
    "print(\"Accuracy = \",accuracy_score(test[classes].to_numpy(dtype=float),ee))"
   ]
  },
  {
   "cell_type": "code",
   "execution_count": null,
   "metadata": {},
   "outputs": [],
   "source": []
  }
 ],
 "metadata": {
  "kernelspec": {
   "display_name": "Python 3",
   "language": "python",
   "name": "python3"
  },
  "language_info": {
   "codemirror_mode": {
    "name": "ipython",
    "version": 3
   },
   "file_extension": ".py",
   "mimetype": "text/x-python",
   "name": "python",
   "nbconvert_exporter": "python",
   "pygments_lexer": "ipython3",
   "version": "3.7.13"
  }
 },
 "nbformat": 4,
 "nbformat_minor": 4
}
