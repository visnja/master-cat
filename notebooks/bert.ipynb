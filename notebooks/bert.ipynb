{
 "cells": [
  {
   "cell_type": "code",
   "execution_count": null,
   "id": "8f12a65e",
   "metadata": {},
   "outputs": [],
   "source": []
  },
  {
   "cell_type": "code",
   "execution_count": 1,
   "id": "a169fad1",
   "metadata": {},
   "outputs": [
    {
     "data": {
      "text/html": [
       "<div>\n",
       "<style scoped>\n",
       "    .dataframe tbody tr th:only-of-type {\n",
       "        vertical-align: middle;\n",
       "    }\n",
       "\n",
       "    .dataframe tbody tr th {\n",
       "        vertical-align: top;\n",
       "    }\n",
       "\n",
       "    .dataframe thead th {\n",
       "        text-align: right;\n",
       "    }\n",
       "</style>\n",
       "<table border=\"1\" class=\"dataframe\">\n",
       "  <thead>\n",
       "    <tr style=\"text-align: right;\">\n",
       "      <th></th>\n",
       "      <th>_id</th>\n",
       "      <th>title</th>\n",
       "      <th>summary</th>\n",
       "      <th>url</th>\n",
       "      <th>source</th>\n",
       "      <th>alternateImageUrl</th>\n",
       "      <th>body</th>\n",
       "      <th>publishedAt</th>\n",
       "      <th>classes_target</th>\n",
       "      <th>classes_body</th>\n",
       "      <th>classes_summary</th>\n",
       "      <th>classes_title</th>\n",
       "      <th>summary_textrank</th>\n",
       "    </tr>\n",
       "  </thead>\n",
       "  <tbody>\n",
       "    <tr>\n",
       "      <th>0</th>\n",
       "      <td>623d62126e887c1f5ed1a34e</td>\n",
       "      <td>Risk currencies recover from Friday carnage, d...</td>\n",
       "      <td>The Australian dollar and other riskier curren...</td>\n",
       "      <td>https://www.reuters.com/article/uk-global-fore...</td>\n",
       "      <td>reuters.com</td>\n",
       "      <td>https://static.reuters.com/resources/r/?m=02&amp;d...</td>\n",
       "      <td>[By Reuters Staff, 3 MIN READ, TOKYO (Reuters)...</td>\n",
       "      <td>2021-03-01T01:10:24Z</td>\n",
       "      <td>[GBP, JPY, NZD, EUR, AUD, USD, INDEX]</td>\n",
       "      <td>[GBP, JPY, NZD, EUR, AUD, USD, INDEX]</td>\n",
       "      <td>[AUD, USD]</td>\n",
       "      <td>[USD]</td>\n",
       "      <td>TOKYO (Reuters) - The Australian dollar and ot...</td>\n",
       "    </tr>\n",
       "    <tr>\n",
       "      <th>1</th>\n",
       "      <td>623d62126e887c1f5ed1a350</td>\n",
       "      <td>Taiwan punishes Deutsche Bank, others in curre...</td>\n",
       "      <td>Taiwan's central bank said on Sunday it had ba...</td>\n",
       "      <td>https://www.reuters.com/article/uk-taiwan-fore...</td>\n",
       "      <td>reuters.com</td>\n",
       "      <td>https://static.reuters.com/resources/r/?m=02&amp;d...</td>\n",
       "      <td>[By Reuters Staff, 3 MIN READ, TAIPEI (Reuters...</td>\n",
       "      <td>2021-02-07T06:44:13Z</td>\n",
       "      <td>[TWD, USD]</td>\n",
       "      <td>[TWD, USD]</td>\n",
       "      <td>[TWD, USD]</td>\n",
       "      <td>[]</td>\n",
       "      <td>TAIPEI (Reuters) - Taiwan’s central bank said ...</td>\n",
       "    </tr>\n",
       "    <tr>\n",
       "      <th>2</th>\n",
       "      <td>623d62126e887c1f5ed1a34c</td>\n",
       "      <td>BoE hikes, Fed pivots, ECB rolls slow as pande...</td>\n",
       "      <td>(Reuters) -Britain became the first G7 economy...</td>\n",
       "      <td>https://www.reuters.com/article/global-cenbank...</td>\n",
       "      <td>reuters.com</td>\n",
       "      <td>https://www.reuters.com/resizer/2PugZXYjkc1RTi...</td>\n",
       "      <td>[Federal Reserve in Washington, U.S., November...</td>\n",
       "      <td>2021-12-16T14:46:19Z</td>\n",
       "      <td>[INDEX, EUR]</td>\n",
       "      <td>[INDEX, EUR]</td>\n",
       "      <td>[EUR]</td>\n",
       "      <td>[INDEX]</td>\n",
       "      <td>REUTERS/Kevin Lamarque/File Photo Dec 16 (Reut...</td>\n",
       "    </tr>\n",
       "    <tr>\n",
       "      <th>3</th>\n",
       "      <td>623d62126e887c1f5ed1a351</td>\n",
       "      <td>Dollar extends rebound as U.S. yields rise</td>\n",
       "      <td>The dollar edged higher across the board on Mo...</td>\n",
       "      <td>https://www.reuters.com/article/uk-global-fore...</td>\n",
       "      <td>reuters.com</td>\n",
       "      <td>https://static.reuters.com/resources/r/?m=02&amp;d...</td>\n",
       "      <td>[By Saqib Iqbal Ahmed, 3 MIN READ, NEW YORK (R...</td>\n",
       "      <td>2021-01-11T01:32:00Z</td>\n",
       "      <td>[GBP, USD, BTC]</td>\n",
       "      <td>[GBP, USD, BTC]</td>\n",
       "      <td>[USD]</td>\n",
       "      <td>[USD]</td>\n",
       "      <td>By Saqib Iqbal Ahmed  NEW YORK (Reuters) - The...</td>\n",
       "    </tr>\n",
       "    <tr>\n",
       "      <th>4</th>\n",
       "      <td>623d62126e887c1f5ed1a352</td>\n",
       "      <td>Dollar recovery pushes sterling below $1.35; U...</td>\n",
       "      <td>The pound was among the risk assets hurt by th...</td>\n",
       "      <td>https://www.reuters.com/article/uk-britain-ste...</td>\n",
       "      <td>reuters.com</td>\n",
       "      <td>https://static.reuters.com/resources/r/?m=02&amp;d...</td>\n",
       "      <td>[By Elizabeth Howcroft, 3 MIN READ, LONDON (Re...</td>\n",
       "      <td>2021-01-11T09:44:15Z</td>\n",
       "      <td>[GBP, INDEX, USD, EUR]</td>\n",
       "      <td>[GBP, INDEX, USD, EUR]</td>\n",
       "      <td>[GBP, INDEX, USD]</td>\n",
       "      <td>[GBP, USD]</td>\n",
       "      <td>By Elizabeth Howcroft  LONDON (Reuters) - The ...</td>\n",
       "    </tr>\n",
       "  </tbody>\n",
       "</table>\n",
       "</div>"
      ],
      "text/plain": [
       "                        _id  \\\n",
       "0  623d62126e887c1f5ed1a34e   \n",
       "1  623d62126e887c1f5ed1a350   \n",
       "2  623d62126e887c1f5ed1a34c   \n",
       "3  623d62126e887c1f5ed1a351   \n",
       "4  623d62126e887c1f5ed1a352   \n",
       "\n",
       "                                               title  \\\n",
       "0  Risk currencies recover from Friday carnage, d...   \n",
       "1  Taiwan punishes Deutsche Bank, others in curre...   \n",
       "2  BoE hikes, Fed pivots, ECB rolls slow as pande...   \n",
       "3         Dollar extends rebound as U.S. yields rise   \n",
       "4  Dollar recovery pushes sterling below $1.35; U...   \n",
       "\n",
       "                                             summary  \\\n",
       "0  The Australian dollar and other riskier curren...   \n",
       "1  Taiwan's central bank said on Sunday it had ba...   \n",
       "2  (Reuters) -Britain became the first G7 economy...   \n",
       "3  The dollar edged higher across the board on Mo...   \n",
       "4  The pound was among the risk assets hurt by th...   \n",
       "\n",
       "                                                 url       source  \\\n",
       "0  https://www.reuters.com/article/uk-global-fore...  reuters.com   \n",
       "1  https://www.reuters.com/article/uk-taiwan-fore...  reuters.com   \n",
       "2  https://www.reuters.com/article/global-cenbank...  reuters.com   \n",
       "3  https://www.reuters.com/article/uk-global-fore...  reuters.com   \n",
       "4  https://www.reuters.com/article/uk-britain-ste...  reuters.com   \n",
       "\n",
       "                                   alternateImageUrl  \\\n",
       "0  https://static.reuters.com/resources/r/?m=02&d...   \n",
       "1  https://static.reuters.com/resources/r/?m=02&d...   \n",
       "2  https://www.reuters.com/resizer/2PugZXYjkc1RTi...   \n",
       "3  https://static.reuters.com/resources/r/?m=02&d...   \n",
       "4  https://static.reuters.com/resources/r/?m=02&d...   \n",
       "\n",
       "                                                body           publishedAt  \\\n",
       "0  [By Reuters Staff, 3 MIN READ, TOKYO (Reuters)...  2021-03-01T01:10:24Z   \n",
       "1  [By Reuters Staff, 3 MIN READ, TAIPEI (Reuters...  2021-02-07T06:44:13Z   \n",
       "2  [Federal Reserve in Washington, U.S., November...  2021-12-16T14:46:19Z   \n",
       "3  [By Saqib Iqbal Ahmed, 3 MIN READ, NEW YORK (R...  2021-01-11T01:32:00Z   \n",
       "4  [By Elizabeth Howcroft, 3 MIN READ, LONDON (Re...  2021-01-11T09:44:15Z   \n",
       "\n",
       "                          classes_target  \\\n",
       "0  [GBP, JPY, NZD, EUR, AUD, USD, INDEX]   \n",
       "1                             [TWD, USD]   \n",
       "2                           [INDEX, EUR]   \n",
       "3                        [GBP, USD, BTC]   \n",
       "4                 [GBP, INDEX, USD, EUR]   \n",
       "\n",
       "                            classes_body    classes_summary classes_title  \\\n",
       "0  [GBP, JPY, NZD, EUR, AUD, USD, INDEX]         [AUD, USD]         [USD]   \n",
       "1                             [TWD, USD]         [TWD, USD]            []   \n",
       "2                           [INDEX, EUR]              [EUR]       [INDEX]   \n",
       "3                        [GBP, USD, BTC]              [USD]         [USD]   \n",
       "4                 [GBP, INDEX, USD, EUR]  [GBP, INDEX, USD]    [GBP, USD]   \n",
       "\n",
       "                                    summary_textrank  \n",
       "0  TOKYO (Reuters) - The Australian dollar and ot...  \n",
       "1  TAIPEI (Reuters) - Taiwan’s central bank said ...  \n",
       "2  REUTERS/Kevin Lamarque/File Photo Dec 16 (Reut...  \n",
       "3  By Saqib Iqbal Ahmed  NEW YORK (Reuters) - The...  \n",
       "4  By Elizabeth Howcroft  LONDON (Reuters) - The ...  "
      ]
     },
     "execution_count": 1,
     "metadata": {},
     "output_type": "execute_result"
    }
   ],
   "source": [
    "from pymongo import MongoClient\n",
    "import pandas as pd\n",
    "\n",
    "connection=MongoClient(\"mongodb://192.168.0.18:27017/crawler.contents\")\n",
    "\n",
    "db=connection.get_database()\n",
    "articles = pd.DataFrame(list(db.contents.find()))\n",
    "\n",
    "\n",
    "articles = articles.drop(columns=['visited','created_at','contentType','date','icon'])\n",
    "articles.head()"
   ]
  },
  {
   "cell_type": "code",
   "execution_count": 2,
   "id": "eb70ba57",
   "metadata": {},
   "outputs": [
    {
     "name": "stderr",
     "output_type": "stream",
     "text": [
      "C:\\Users\\Igo\\miniconda3\\lib\\site-packages\\tqdm\\auto.py:22: TqdmWarning: IProgress not found. Please update jupyter and ipywidgets. See https://ipywidgets.readthedocs.io/en/stable/user_install.html\n",
      "  from .autonotebook import tqdm as notebook_tqdm\n"
     ]
    },
    {
     "name": "stdout",
     "output_type": "stream",
     "text": [
      "There are 1 GPU(s) available.\n",
      "We will use the GPU: NVIDIA GeForce GTX 1060 6GB\n"
     ]
    }
   ],
   "source": [
    "import torch\n",
    "\n",
    "if torch.cuda.is_available():    \n",
    "\n",
    "    # Tell PyTorch to use the GPU.    \n",
    "    device = torch.device(\"cuda:0\")\n",
    "\n",
    "    print('There are %d GPU(s) available.' % torch.cuda.device_count())\n",
    "\n",
    "    print('We will use the GPU:', torch.cuda.get_device_name(0))\n",
    "\n",
    "# If not...\n",
    "else:\n",
    "    print('No GPU available, using the CPU instead.')\n",
    "    device = torch.device(\"cpu\")"
   ]
  },
  {
   "cell_type": "code",
   "execution_count": 3,
   "id": "84c577f7",
   "metadata": {},
   "outputs": [],
   "source": [
    "from transformers import AutoTokenizer, AutoModelForSeq2SeqLM, pipeline, PreTrainedTokenizerFast\n",
    "import os\n",
    "os.environ['CUDA_LAUNCH_BLOCKING'] = '1'\n",
    "tokenizer = AutoTokenizer.from_pretrained(\"facebook/bart-large-cnn\")\n",
    "\n",
    "model = AutoModelForSeq2SeqLM.from_pretrained(\"facebook/bart-large-cnn\").to(device)"
   ]
  },
  {
   "cell_type": "code",
   "execution_count": 4,
   "id": "e5b59630",
   "metadata": {},
   "outputs": [],
   "source": [
    "summarizer = pipeline(\"summarization\", model=model, tokenizer=tokenizer)\n"
   ]
  },
  {
   "cell_type": "code",
   "execution_count": 5,
   "id": "eb86e7b6",
   "metadata": {},
   "outputs": [
    {
     "name": "stdout",
     "output_type": "stream",
     "text": [
      "Requirement already satisfied: pandas in c:\\users\\igo\\miniconda3\\lib\\site-packages (1.4.2)\n",
      "Requirement already satisfied: pytz>=2020.1 in c:\\users\\igo\\miniconda3\\lib\\site-packages (from pandas) (2022.1)\n",
      "Requirement already satisfied: numpy>=1.18.5 in c:\\users\\igo\\miniconda3\\lib\\site-packages (from pandas) (1.22.3)\n",
      "Requirement already satisfied: python-dateutil>=2.8.1 in c:\\users\\igo\\miniconda3\\lib\\site-packages (from pandas) (2.8.2)\n",
      "Requirement already satisfied: six>=1.5 in c:\\users\\igo\\miniconda3\\lib\\site-packages (from python-dateutil>=2.8.1->pandas) (1.16.0)\n"
     ]
    }
   ],
   "source": [
    "\n"
   ]
  },
  {
   "cell_type": "code",
   "execution_count": 6,
   "id": "29696f9f",
   "metadata": {},
   "outputs": [],
   "source": [
    "import pandas as pd\n"
   ]
  },
  {
   "cell_type": "code",
   "execution_count": 7,
   "id": "97bec9d6",
   "metadata": {},
   "outputs": [],
   "source": [
    "articles = articles.drop(columns=['classes_target','classes_summary','classes_title'])\n",
    "\n"
   ]
  },
  {
   "cell_type": "code",
   "execution_count": 8,
   "id": "62831391",
   "metadata": {},
   "outputs": [
    {
     "name": "stderr",
     "output_type": "stream",
     "text": [
      "Token indices sequence length is longer than the specified maximum sequence length for this model (1169 > 1024). Running this sequence through the model will result in indexing errors\n"
     ]
    },
    {
     "name": "stdout",
     "output_type": "stream",
     "text": [
      "26788.2259185314\n",
      "27919\n"
     ]
    }
   ],
   "source": [
    "articles['text'] = articles['body'].map(lambda x: \" \".join(x) if type(x) is list else \"\")\n",
    "# summarizer(list(files.get('text')),max_length=120,min_length=30,do_sample=False, batch_size=4),\n",
    "# fast_tokenizer = PreTrainedTokenizerFast(tokenizer=tokenizer)\n",
    "def split_by_window_size(tokens):\n",
    "    start = 0\n",
    "    window_size = 510\n",
    "    chunksize = 512\n",
    "    input_id_chunks =  list(tokens['input_ids'][0].split(chunksize - 2))\n",
    "    mask_chunks =  list(tokens['attention_mask'][0].split(chunksize - 2))\n",
    "    for i in range(len(input_id_chunks)):\n",
    "        # add CLS and SEP tokens to input IDs\n",
    "        input_id_chunks[i] = torch.cat([\n",
    "            torch.tensor([101]).to(device), input_id_chunks[i].to(device), torch.tensor([102]).to(device)\n",
    "        ]).to(device)\n",
    "        # add attention tokens to attention mask\n",
    "        mask_chunks[i] = torch.cat([\n",
    "            torch.tensor([1]).to(device), mask_chunks[i].to(device), torch.tensor([1]).to(device)\n",
    "        ]).to(device)\n",
    "        # get required padding length\n",
    "        pad_len = chunksize - input_id_chunks[i].shape[0]\n",
    "        # check if tensor length satisfies required chunk size\n",
    "        if pad_len > 0:\n",
    "            # if padding length is more than 0, we must add padding\n",
    "            input_id_chunks[i] = torch.cat([\n",
    "                input_id_chunks[i], torch.Tensor([0] * pad_len).to(device)\n",
    "            ]).to(device)\n",
    "            mask_chunks[i] = torch.cat([\n",
    "                mask_chunks[i], torch.Tensor([0] * pad_len).to(device)\n",
    "            ]).to(device)\n",
    "    input_ids = torch.stack(input_id_chunks).to(device)\n",
    "    attention_mask = torch.stack(mask_chunks).to(device)\n",
    "\n",
    "    input_dict = {\n",
    "        'input_ids': input_ids.long(),\n",
    "        'attention_mask': attention_mask.int()\n",
    "    }\n",
    "    return input_dict\n",
    "\n",
    "import time\n",
    "from transformers import SummarizationPipeline\n",
    "\n",
    "class MyPipeline(SummarizationPipeline):\n",
    "    def preprocess(self, *args, **kwargs):\n",
    "        inputs = super().preprocess(*args, **kwargs)\n",
    "        inputs = split_by_window_size(inputs)\n",
    "        \n",
    "        return inputs\n",
    "summarizer = MyPipeline( model=model, tokenizer=tokenizer, device=0)\n",
    "s = time.time()\n",
    "outputs = summarizer(list(articles.get('text')),max_length=120,min_length=30,do_sample=False, batch_size=8)\n",
    "e = time.time()\n",
    "print(round(e-s,10))\n",
    "print(len(outputs))\n",
    "# with torch.no_grad():\n",
    "#     inputs = files['text'].map(lambda x: tokenizer(x , return_tensors=\"pt\").to(device) )\n",
    "#     inputs = inputs.map(lambda tokens: split_by_window_size(tokens))\n",
    "#     outputs = inputs.map(lambda x: model.generate(**x))\n"
   ]
  },
  {
   "cell_type": "code",
   "execution_count": 9,
   "id": "cb5a5a64",
   "metadata": {},
   "outputs": [
    {
     "name": "stderr",
     "output_type": "stream",
     "text": [
      "IOPub data rate exceeded.\n",
      "The notebook server will temporarily stop sending output\n",
      "to the client in order to avoid crashing it.\n",
      "To change this limit, set the config variable\n",
      "`--NotebookApp.iopub_data_rate_limit`.\n",
      "\n",
      "Current values:\n",
      "NotebookApp.iopub_data_rate_limit=1000000.0 (bytes/sec)\n",
      "NotebookApp.rate_limit_window=3.0 (secs)\n",
      "\n"
     ]
    }
   ],
   "source": [
    "print(outputs)"
   ]
  },
  {
   "cell_type": "code",
   "execution_count": 10,
   "id": "b08496e8",
   "metadata": {},
   "outputs": [],
   "source": [
    "articles['summary_bert'] = [x['summary_text'] for x in outputs]"
   ]
  },
  {
   "cell_type": "code",
   "execution_count": 11,
   "id": "942abf2e",
   "metadata": {},
   "outputs": [],
   "source": [
    "for i,x in articles.iterrows():\n",
    "    db.contents.update_one({'_id':x['_id']},{'$set':{'summary_bert':x['summary_bert']}})"
   ]
  },
  {
   "cell_type": "code",
   "execution_count": null,
   "id": "ca134ee0",
   "metadata": {},
   "outputs": [],
   "source": []
  },
  {
   "cell_type": "code",
   "execution_count": null,
   "id": "196e503b",
   "metadata": {},
   "outputs": [],
   "source": []
  }
 ],
 "metadata": {
  "kernelspec": {
   "display_name": "Python 3 (ipykernel)",
   "language": "python",
   "name": "python3"
  },
  "language_info": {
   "codemirror_mode": {
    "name": "ipython",
    "version": 3
   },
   "file_extension": ".py",
   "mimetype": "text/x-python",
   "name": "python",
   "nbconvert_exporter": "python",
   "pygments_lexer": "ipython3",
   "version": "3.9.12"
  }
 },
 "nbformat": 4,
 "nbformat_minor": 5
}
