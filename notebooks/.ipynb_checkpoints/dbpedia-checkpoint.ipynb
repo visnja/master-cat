{
 "cells": [
  {
   "cell_type": "code",
   "execution_count": 1,
   "metadata": {},
   "outputs": [
    {
     "name": "stdout",
     "output_type": "stream",
     "text": [
      "Requirement already satisfied: spacy-dbpedia-spotlight in /home/visnja/anaconda3/envs/python3.7-env/lib/python3.7/site-packages (0.2.2)\n",
      "Requirement already satisfied: spacy>=3 in /home/visnja/anaconda3/envs/python3.7-env/lib/python3.7/site-packages (from spacy-dbpedia-spotlight) (3.2.1)\n",
      "Requirement already satisfied: loguru in /home/visnja/anaconda3/envs/python3.7-env/lib/python3.7/site-packages (from spacy-dbpedia-spotlight) (0.6.0)\n",
      "Requirement already satisfied: numpy>=1.15.0 in /home/visnja/anaconda3/envs/python3.7-env/lib/python3.7/site-packages (from spacy>=3->spacy-dbpedia-spotlight) (1.21.5)\n",
      "Requirement already satisfied: catalogue<2.1.0,>=2.0.6 in /home/visnja/anaconda3/envs/python3.7-env/lib/python3.7/site-packages (from spacy>=3->spacy-dbpedia-spotlight) (2.0.6)\n",
      "Requirement already satisfied: requests<3.0.0,>=2.13.0 in /home/visnja/anaconda3/envs/python3.7-env/lib/python3.7/site-packages (from spacy>=3->spacy-dbpedia-spotlight) (2.24.0)\n",
      "Requirement already satisfied: murmurhash<1.1.0,>=0.28.0 in /home/visnja/anaconda3/envs/python3.7-env/lib/python3.7/site-packages (from spacy>=3->spacy-dbpedia-spotlight) (1.0.5)\n",
      "Requirement already satisfied: setuptools in /home/visnja/anaconda3/envs/python3.7-env/lib/python3.7/site-packages (from spacy>=3->spacy-dbpedia-spotlight) (61.2.0)\n",
      "Requirement already satisfied: srsly<3.0.0,>=2.4.1 in /home/visnja/anaconda3/envs/python3.7-env/lib/python3.7/site-packages (from spacy>=3->spacy-dbpedia-spotlight) (2.4.1)\n",
      "Requirement already satisfied: spacy-legacy<3.1.0,>=3.0.8 in /home/visnja/anaconda3/envs/python3.7-env/lib/python3.7/site-packages (from spacy>=3->spacy-dbpedia-spotlight) (3.0.8)\n",
      "Requirement already satisfied: preshed<3.1.0,>=3.0.2 in /home/visnja/anaconda3/envs/python3.7-env/lib/python3.7/site-packages (from spacy>=3->spacy-dbpedia-spotlight) (3.0.5)\n",
      "Requirement already satisfied: pydantic!=1.8,!=1.8.1,<1.9.0,>=1.7.4 in /home/visnja/anaconda3/envs/python3.7-env/lib/python3.7/site-packages (from spacy>=3->spacy-dbpedia-spotlight) (1.8.2)\n",
      "Requirement already satisfied: jinja2 in /home/visnja/anaconda3/envs/python3.7-env/lib/python3.7/site-packages (from spacy>=3->spacy-dbpedia-spotlight) (3.1.1)\n",
      "Requirement already satisfied: pathy>=0.3.5 in /home/visnja/anaconda3/envs/python3.7-env/lib/python3.7/site-packages (from spacy>=3->spacy-dbpedia-spotlight) (0.6.0)\n",
      "Requirement already satisfied: packaging>=20.0 in /home/visnja/anaconda3/envs/python3.7-env/lib/python3.7/site-packages (from spacy>=3->spacy-dbpedia-spotlight) (21.3)\n",
      "Requirement already satisfied: typing-extensions<4.0.0.0,>=3.7.4 in /home/visnja/anaconda3/envs/python3.7-env/lib/python3.7/site-packages (from spacy>=3->spacy-dbpedia-spotlight) (3.10.0.2)\n",
      "Requirement already satisfied: typer<0.5.0,>=0.3.0 in /home/visnja/anaconda3/envs/python3.7-env/lib/python3.7/site-packages (from spacy>=3->spacy-dbpedia-spotlight) (0.4.0)\n",
      "Requirement already satisfied: thinc<8.1.0,>=8.0.12 in /home/visnja/anaconda3/envs/python3.7-env/lib/python3.7/site-packages (from spacy>=3->spacy-dbpedia-spotlight) (8.0.13)\n",
      "Requirement already satisfied: blis<0.8.0,>=0.4.0 in /home/visnja/anaconda3/envs/python3.7-env/lib/python3.7/site-packages (from spacy>=3->spacy-dbpedia-spotlight) (0.7.4)\n",
      "Requirement already satisfied: wasabi<1.1.0,>=0.8.1 in /home/visnja/anaconda3/envs/python3.7-env/lib/python3.7/site-packages (from spacy>=3->spacy-dbpedia-spotlight) (0.8.2)\n",
      "Requirement already satisfied: langcodes<4.0.0,>=3.2.0 in /home/visnja/anaconda3/envs/python3.7-env/lib/python3.7/site-packages (from spacy>=3->spacy-dbpedia-spotlight) (3.3.0)\n",
      "Requirement already satisfied: spacy-loggers<2.0.0,>=1.0.0 in /home/visnja/anaconda3/envs/python3.7-env/lib/python3.7/site-packages (from spacy>=3->spacy-dbpedia-spotlight) (1.0.1)\n",
      "Requirement already satisfied: cymem<2.1.0,>=2.0.2 in /home/visnja/anaconda3/envs/python3.7-env/lib/python3.7/site-packages (from spacy>=3->spacy-dbpedia-spotlight) (2.0.5)\n",
      "Requirement already satisfied: tqdm<5.0.0,>=4.38.0 in /home/visnja/anaconda3/envs/python3.7-env/lib/python3.7/site-packages (from spacy>=3->spacy-dbpedia-spotlight) (4.63.0)\n",
      "Requirement already satisfied: zipp>=0.5 in /home/visnja/anaconda3/envs/python3.7-env/lib/python3.7/site-packages (from catalogue<2.1.0,>=2.0.6->spacy>=3->spacy-dbpedia-spotlight) (3.7.0)\n",
      "Requirement already satisfied: pyparsing!=3.0.5,>=2.0.2 in /home/visnja/anaconda3/envs/python3.7-env/lib/python3.7/site-packages (from packaging>=20.0->spacy>=3->spacy-dbpedia-spotlight) (3.0.4)\n",
      "Requirement already satisfied: smart-open<6.0.0,>=5.0.0 in /home/visnja/anaconda3/envs/python3.7-env/lib/python3.7/site-packages (from pathy>=0.3.5->spacy>=3->spacy-dbpedia-spotlight) (5.1.0)\n",
      "Requirement already satisfied: idna<3,>=2.5 in /home/visnja/anaconda3/envs/python3.7-env/lib/python3.7/site-packages (from requests<3.0.0,>=2.13.0->spacy>=3->spacy-dbpedia-spotlight) (2.10)\n",
      "Requirement already satisfied: chardet<4,>=3.0.2 in /home/visnja/anaconda3/envs/python3.7-env/lib/python3.7/site-packages (from requests<3.0.0,>=2.13.0->spacy>=3->spacy-dbpedia-spotlight) (3.0.4)\n",
      "Requirement already satisfied: certifi>=2017.4.17 in /home/visnja/anaconda3/envs/python3.7-env/lib/python3.7/site-packages (from requests<3.0.0,>=2.13.0->spacy>=3->spacy-dbpedia-spotlight) (2022.6.15)\n",
      "Requirement already satisfied: urllib3!=1.25.0,!=1.25.1,<1.26,>=1.21.1 in /home/visnja/anaconda3/envs/python3.7-env/lib/python3.7/site-packages (from requests<3.0.0,>=2.13.0->spacy>=3->spacy-dbpedia-spotlight) (1.25.11)\n",
      "Requirement already satisfied: click<9.0.0,>=7.1.1 in /home/visnja/anaconda3/envs/python3.7-env/lib/python3.7/site-packages (from typer<0.5.0,>=0.3.0->spacy>=3->spacy-dbpedia-spotlight) (8.0.4)\n",
      "Requirement already satisfied: importlib-metadata in /home/visnja/anaconda3/envs/python3.7-env/lib/python3.7/site-packages (from click<9.0.0,>=7.1.1->typer<0.5.0,>=0.3.0->spacy>=3->spacy-dbpedia-spotlight) (4.11.3)\n",
      "Requirement already satisfied: MarkupSafe>=2.0 in /home/visnja/anaconda3/envs/python3.7-env/lib/python3.7/site-packages (from jinja2->spacy>=3->spacy-dbpedia-spotlight) (2.1.1)\n"
     ]
    },
    {
     "name": "stderr",
     "output_type": "stream",
     "text": [
      "/home/visnja/anaconda3/envs/python3.7-env/lib/python3.7/site-packages/tqdm/auto.py:22: TqdmWarning: IProgress not found. Please update jupyter and ipywidgets. See https://ipywidgets.readthedocs.io/en/stable/user_install.html\n",
      "  from .autonotebook import tqdm as notebook_tqdm\n"
     ]
    },
    {
     "data": {
      "text/plain": [
       "<spacy_dbpedia_spotlight.entity_linker.EntityLinker at 0x7f525a43dfd0>"
      ]
     },
     "execution_count": 1,
     "metadata": {},
     "output_type": "execute_result"
    }
   ],
   "source": [
    "!pip install spacy-dbpedia-spotlight\n",
    "import pandas as pd\n",
    "import en_core_web_lg\n",
    "nlp =  en_core_web_lg.load()\n",
    "import numpy as np\n",
    "np.random.seed(0)\n",
    "from pymongo import MongoClient\n",
    "from spacy.matcher import Matcher\n",
    "from spacy.tokenizer import Tokenizer\n",
    "import spacy_dbpedia_spotlight\n",
    "import spacy\n",
    "# load your model as usual\n",
    "nlp = spacy.load('en_core_web_lg')\n",
    "# add the pipeline stage\n",
    "nlp.add_pipe('dbpedia_spotlight')"
   ]
  },
  {
   "cell_type": "code",
   "execution_count": 2,
   "id": "62d5d4d1-b0de-44b0-9403-7d6f1afe2ba4",
   "metadata": {
    "scrolled": true
   },
   "outputs": [],
   "source": [
    "connection=MongoClient(\"mongodb://localhost:27017/crawler.contents\")\n",
    "\n",
    "db=connection.get_database()"
   ]
  },
  {
   "cell_type": "code",
   "execution_count": 3,
   "metadata": {},
   "outputs": [
    {
     "ename": "NameError",
     "evalue": "name 'articles' is not defined",
     "output_type": "error",
     "traceback": [
      "\u001b[0;31m---------------------------------------------------------------------------\u001b[0m",
      "\u001b[0;31mNameError\u001b[0m                                 Traceback (most recent call last)",
      "\u001b[0;32m/tmp/ipykernel_15751/147542533.py\u001b[0m in \u001b[0;36m<module>\u001b[0;34m\u001b[0m\n\u001b[0;32m----> 1\u001b[0;31m \u001b[0mdoc\u001b[0m \u001b[0;34m=\u001b[0m \u001b[0mnlp\u001b[0m\u001b[0;34m(\u001b[0m\u001b[0marticles\u001b[0m\u001b[0;34m[\u001b[0m\u001b[0;34m'title'\u001b[0m\u001b[0;34m]\u001b[0m\u001b[0;34m[\u001b[0m\u001b[0;36m0\u001b[0m\u001b[0;34m]\u001b[0m\u001b[0;34m)\u001b[0m\u001b[0;34m\u001b[0m\u001b[0;34m\u001b[0m\u001b[0m\n\u001b[0m\u001b[1;32m      2\u001b[0m \u001b[0mprint\u001b[0m\u001b[0;34m(\u001b[0m\u001b[0marticles\u001b[0m\u001b[0;34m[\u001b[0m\u001b[0;34m'title'\u001b[0m\u001b[0;34m]\u001b[0m\u001b[0;34m[\u001b[0m\u001b[0;36m0\u001b[0m\u001b[0;34m]\u001b[0m\u001b[0;34m)\u001b[0m\u001b[0;34m\u001b[0m\u001b[0;34m\u001b[0m\u001b[0m\n\u001b[1;32m      3\u001b[0m \u001b[0mprint\u001b[0m\u001b[0;34m(\u001b[0m\u001b[0;34m'Entities'\u001b[0m\u001b[0;34m,\u001b[0m \u001b[0;34m[\u001b[0m\u001b[0;34m(\u001b[0m\u001b[0ment\u001b[0m\u001b[0;34m.\u001b[0m\u001b[0mtext\u001b[0m\u001b[0;34m,\u001b[0m \u001b[0ment\u001b[0m\u001b[0;34m.\u001b[0m\u001b[0mlabel_\u001b[0m\u001b[0;34m,\u001b[0m \u001b[0ment\u001b[0m\u001b[0;34m.\u001b[0m\u001b[0mkb_id_\u001b[0m\u001b[0;34m)\u001b[0m \u001b[0;32mfor\u001b[0m \u001b[0ment\u001b[0m \u001b[0;32min\u001b[0m \u001b[0mdoc\u001b[0m\u001b[0;34m.\u001b[0m\u001b[0ments\u001b[0m\u001b[0;34m]\u001b[0m\u001b[0;34m)\u001b[0m\u001b[0;34m\u001b[0m\u001b[0;34m\u001b[0m\u001b[0m\n",
      "\u001b[0;31mNameError\u001b[0m: name 'articles' is not defined"
     ]
    }
   ],
   "source": [
    "doc = nlp(articles['title'][0])\n",
    "print(articles['title'][0])\n",
    "print('Entities', [(ent.text, ent.label_, ent.kb_id_) for ent in doc.ents])"
   ]
  },
  {
   "cell_type": "code",
   "execution_count": null,
   "metadata": {},
   "outputs": [],
   "source": [
    "doc = nlp(articles['summary'][0])\n",
    "print(articles['summary'][0])\n",
    "print('Entities', [(ent.text, ent.label_, ent.kb_id_) for ent in doc.ents])"
   ]
  },
  {
   "cell_type": "code",
   "execution_count": null,
   "metadata": {},
   "outputs": [],
   "source": [
    "doc = nlp(articles['body'].map(lambda x: \" \".join(x) if type(x) is list else \"\")[2])\n",
    "# print(articles['body'][0])\n",
    "print('Entities', [(ent.text, ent.label_, ent.kb_id_) for ent in doc.ents])"
   ]
  },
  {
   "cell_type": "code",
   "execution_count": null,
   "metadata": {},
   "outputs": [],
   "source": [
    "print(articles['body'][2])"
   ]
  }
 ],
 "metadata": {
  "kernelspec": {
   "display_name": "Python 3",
   "language": "python",
   "name": "python3"
  },
  "language_info": {
   "codemirror_mode": {
    "name": "ipython",
    "version": 3
   },
   "file_extension": ".py",
   "mimetype": "text/x-python",
   "name": "python",
   "nbconvert_exporter": "python",
   "pygments_lexer": "ipython3",
   "version": "3.7.13"
  }
 },
 "nbformat": 4,
 "nbformat_minor": 5
}
