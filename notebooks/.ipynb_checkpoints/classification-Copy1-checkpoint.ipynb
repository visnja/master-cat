{
 "cells": [
  {
   "cell_type": "code",
   "execution_count": 1,
   "metadata": {},
   "outputs": [],
   "source": [
    "%matplotlib inline\n",
    "import re\n",
    "import matplotlib\n",
    "import numpy as np\n",
    "import matplotlib.pyplot as plt\n",
    "import pandas as pd\n",
    "from sklearn.model_selection import train_test_split\n",
    "from sklearn.feature_extraction.text import TfidfVectorizer\n",
    "from sklearn.naive_bayes import MultinomialNB\n",
    "from sklearn.metrics import accuracy_score, balanced_accuracy_score\n",
    "from sklearn.multiclass import OneVsRestClassifier\n",
    "from nltk.corpus import stopwords\n",
    "stop_words = set(stopwords.words('english'))\n",
    "from sklearn.svm import LinearSVC\n",
    "from sklearn.linear_model import LogisticRegression\n",
    "from sklearn.pipeline import Pipeline\n",
    "\n",
    "\n",
    "from IPython.display import display, HTML, Image\n",
    "\n",
    "import pandas as pd\n",
    "import numpy as np\n",
    "import matplotlib.pyplot as plt\n",
    "import copy\n",
    "import random\n",
    "\n",
    "from sklearn.base import BaseEstimator, ClassifierMixin, clone\n",
    "from sklearn.utils.validation import check_X_y, check_array, check_is_fitted\n",
    "from sklearn.model_selection import train_test_split\n",
    "from sklearn.model_selection import GridSearchCV\n",
    "\n",
    "from sklearn.tree import DecisionTreeClassifier\n",
    "from sklearn.ensemble import RandomForestClassifier\n",
    "from sklearn.linear_model import LogisticRegression\n",
    "from sklearn.naive_bayes import GaussianNB\n",
    "from sklearn.neighbors import KNeighborsClassifier\n",
    "from sklearn.svm import SVC\n",
    "\n",
    "from sklearn.metrics import make_scorer\n",
    "from sklearn import metrics\n",
    "\n",
    "# to avoid future warnings for sklearn\n",
    "import warnings\n",
    "warnings.filterwarnings(\"ignore\")\n",
    "\n"
   ]
  },
  {
   "cell_type": "code",
   "execution_count": 2,
   "metadata": {},
   "outputs": [],
   "source": [
    "from pymongo import MongoClient\n",
    "connection=MongoClient(\"mongodb://localhost:27017/crawler.contents\")\n",
    "\n",
    "db=connection.get_database()\n",
    "articles = pd.DataFrame(list(db.contents.find()))\n",
    "articles = articles.drop(columns=['visited','alternateImageUrl','created_at','contentType','date','icon','publishedAt','source','url'])\n"
   ]
  },
  {
   "cell_type": "code",
   "execution_count": 3,
   "metadata": {},
   "outputs": [],
   "source": [
    "classes = list(set(articles.classes_target.dropna().values.sum()))"
   ]
  },
  {
   "cell_type": "code",
   "execution_count": 4,
   "metadata": {},
   "outputs": [],
   "source": [
    "df = pd.concat([articles,articles['classes_target'].fillna(\"\").map(lambda x: \",\".join(x)).str.get_dummies(sep=\",\")],axis=1)\n",
    "counts = []\n",
    "for i in classes:\n",
    "    counts.append((i,df[i].sum()))\n"
   ]
  },
  {
   "cell_type": "code",
   "execution_count": 5,
   "metadata": {},
   "outputs": [],
   "source": [
    "stats = pd.DataFrame(counts, columns=['cat','count'])"
   ]
  },
  {
   "cell_type": "code",
   "execution_count": 6,
   "metadata": {},
   "outputs": [
    {
     "data": {
      "text/html": [
       "<div>\n",
       "<style scoped>\n",
       "    .dataframe tbody tr th:only-of-type {\n",
       "        vertical-align: middle;\n",
       "    }\n",
       "\n",
       "    .dataframe tbody tr th {\n",
       "        vertical-align: top;\n",
       "    }\n",
       "\n",
       "    .dataframe thead th {\n",
       "        text-align: right;\n",
       "    }\n",
       "</style>\n",
       "<table border=\"1\" class=\"dataframe\">\n",
       "  <thead>\n",
       "    <tr style=\"text-align: right;\">\n",
       "      <th></th>\n",
       "      <th>cat</th>\n",
       "      <th>count</th>\n",
       "    </tr>\n",
       "  </thead>\n",
       "  <tbody>\n",
       "    <tr>\n",
       "      <th>0</th>\n",
       "      <td>USD</td>\n",
       "      <td>19259</td>\n",
       "    </tr>\n",
       "    <tr>\n",
       "      <th>1</th>\n",
       "      <td>OIL</td>\n",
       "      <td>1988</td>\n",
       "    </tr>\n",
       "    <tr>\n",
       "      <th>2</th>\n",
       "      <td>XAU</td>\n",
       "      <td>1446</td>\n",
       "    </tr>\n",
       "    <tr>\n",
       "      <th>3</th>\n",
       "      <td>CNY</td>\n",
       "      <td>1522</td>\n",
       "    </tr>\n",
       "    <tr>\n",
       "      <th>4</th>\n",
       "      <td>TWD</td>\n",
       "      <td>72</td>\n",
       "    </tr>\n",
       "    <tr>\n",
       "      <th>5</th>\n",
       "      <td>INDEX</td>\n",
       "      <td>10092</td>\n",
       "    </tr>\n",
       "    <tr>\n",
       "      <th>6</th>\n",
       "      <td>BTC</td>\n",
       "      <td>1096</td>\n",
       "    </tr>\n",
       "    <tr>\n",
       "      <th>7</th>\n",
       "      <td>NZD</td>\n",
       "      <td>2953</td>\n",
       "    </tr>\n",
       "    <tr>\n",
       "      <th>8</th>\n",
       "      <td>JPY</td>\n",
       "      <td>6399</td>\n",
       "    </tr>\n",
       "    <tr>\n",
       "      <th>9</th>\n",
       "      <td>CHF</td>\n",
       "      <td>1600</td>\n",
       "    </tr>\n",
       "    <tr>\n",
       "      <th>10</th>\n",
       "      <td>ARS</td>\n",
       "      <td>17</td>\n",
       "    </tr>\n",
       "    <tr>\n",
       "      <th>11</th>\n",
       "      <td>AUD</td>\n",
       "      <td>4946</td>\n",
       "    </tr>\n",
       "    <tr>\n",
       "      <th>12</th>\n",
       "      <td>EUR</td>\n",
       "      <td>12751</td>\n",
       "    </tr>\n",
       "    <tr>\n",
       "      <th>13</th>\n",
       "      <td>TRY</td>\n",
       "      <td>1069</td>\n",
       "    </tr>\n",
       "    <tr>\n",
       "      <th>14</th>\n",
       "      <td>MXN</td>\n",
       "      <td>582</td>\n",
       "    </tr>\n",
       "    <tr>\n",
       "      <th>15</th>\n",
       "      <td>GBP</td>\n",
       "      <td>7172</td>\n",
       "    </tr>\n",
       "    <tr>\n",
       "      <th>16</th>\n",
       "      <td>CAD</td>\n",
       "      <td>2620</td>\n",
       "    </tr>\n",
       "    <tr>\n",
       "      <th>17</th>\n",
       "      <td>RUB</td>\n",
       "      <td>352</td>\n",
       "    </tr>\n",
       "  </tbody>\n",
       "</table>\n",
       "</div>"
      ],
      "text/plain": [
       "      cat  count\n",
       "0     USD  19259\n",
       "1     OIL   1988\n",
       "2     XAU   1446\n",
       "3     CNY   1522\n",
       "4     TWD     72\n",
       "5   INDEX  10092\n",
       "6     BTC   1096\n",
       "7     NZD   2953\n",
       "8     JPY   6399\n",
       "9     CHF   1600\n",
       "10    ARS     17\n",
       "11    AUD   4946\n",
       "12    EUR  12751\n",
       "13    TRY   1069\n",
       "14    MXN    582\n",
       "15    GBP   7172\n",
       "16    CAD   2620\n",
       "17    RUB    352"
      ]
     },
     "execution_count": 6,
     "metadata": {},
     "output_type": "execute_result"
    }
   ],
   "source": [
    "stats"
   ]
  },
  {
   "cell_type": "code",
   "execution_count": 7,
   "metadata": {},
   "outputs": [
    {
     "data": {
      "text/plain": [
       "Text(0.5, 0, 'category')"
      ]
     },
     "execution_count": 7,
     "metadata": {},
     "output_type": "execute_result"
    },
    {
     "data": {
      "image/png": "[encoded data removed]",
      "text/plain": [
       "<Figure size 576x360 with 1 Axes>"
      ]
     },
     "metadata": {
      "needs_background": "light"
     },
     "output_type": "display_data"
    }
   ],
   "source": [
    "stats.plot(x='cat', y='count', kind='bar', legend=False, grid=True, figsize=(8, 5))\n",
    "plt.title(\"Number of articles per category\")\n",
    "plt.ylabel('# of Occurrences', fontsize=12)\n",
    "plt.xlabel('category', fontsize=12)"
   ]
  },
  {
   "cell_type": "code",
   "execution_count": 8,
   "metadata": {},
   "outputs": [
    {
     "data": {
      "text/plain": [
       "Text(0.5, 0, '# of categories')"
      ]
     },
     "execution_count": 8,
     "metadata": {},
     "output_type": "execute_result"
    },
    {
     "data": {
      "image/png": "[encoded data removed]",
      "text/plain": [
       "<Figure size 576x360 with 1 Axes>"
      ]
     },
     "metadata": {
      "needs_background": "light"
     },
     "output_type": "display_data"
    }
   ],
   "source": [
    "import seaborn as sns\n",
    "rowsums = df.iloc[:,2:].sum(axis=1)\n",
    "x=rowsums.value_counts()#plot\n",
    "plt.figure(figsize=(8,5))\n",
    "ax = sns.barplot(x.index, x.values)\n",
    "plt.title(\"Multiple categories per comment\")\n",
    "plt.ylabel('# of Occurrences', fontsize=12)\n",
    "plt.xlabel('# of categories', fontsize=12)"
   ]
  },
  {
   "cell_type": "code",
   "execution_count": 9,
   "metadata": {},
   "outputs": [
    {
     "name": "stdout",
     "output_type": "stream",
     "text": [
      "Percentage of comments that are not labelled:\n",
      "0.09466671442386905\n"
     ]
    }
   ],
   "source": [
    "print('Percentage of comments that are not labelled:')\n",
    "print(len(df[(df['classes_target'].str.len()==0)]) / len(df))"
   ]
  },
  {
   "cell_type": "code",
   "execution_count": 10,
   "metadata": {},
   "outputs": [
    {
     "data": {
      "text/plain": [
       "<AxesSubplot:>"
      ]
     },
     "execution_count": 10,
     "metadata": {},
     "output_type": "execute_result"
    },
    {
     "data": {
      "image/png": "[encoded data removed]",
      "text/plain": [
       "<Figure size 432x288 with 1 Axes>"
      ]
     },
     "metadata": {
      "needs_background": "light"
     },
     "output_type": "display_data"
    }
   ],
   "source": [
    "lens = df.body.dropna().map(lambda x: \" \".join(x)).str.len()\n",
    "lens.hist(bins = np.arange(0,5000,50))"
   ]
  },
  {
   "cell_type": "code",
   "execution_count": 11,
   "metadata": {},
   "outputs": [],
   "source": [
    "def clean_text(text):\n",
    "    text = text.lower()\n",
    "    text = re.sub(r\"what's\", \"what is \", text)\n",
    "    text = re.sub(r\"\\'s\", \" \", text)\n",
    "    text = re.sub(r\"\\'ve\", \" have \", text)\n",
    "    text = re.sub(r\"can't\", \"can not \", text)\n",
    "    text = re.sub(r\"n't\", \" not \", text)\n",
    "    text = re.sub(r\"i'm\", \"i am \", text)\n",
    "    text = re.sub(r\"\\'re\", \" are \", text)\n",
    "    text = re.sub(r\"\\'d\", \" would \", text)\n",
    "    text = re.sub(r\"\\'ll\", \" will \", text)\n",
    "    text = re.sub(r\"\\'scuse\", \" excuse \", text)\n",
    "    text = re.sub('\\W', ' ', text)\n",
    "    text = re.sub('\\s+', ' ', text)\n",
    "    text = text.strip(' ')\n",
    "    return text"
   ]
  },
  {
   "cell_type": "code",
   "execution_count": 12,
   "metadata": {},
   "outputs": [],
   "source": [
    "class BinaryRelevanceClassifier(BaseEstimator, ClassifierMixin):\n",
    "    def __init__(self, base_classifier=LogisticRegression()):\n",
    "        self.base_classifier=base_classifier\n",
    "\n",
    "    def fit(self, X, y):\n",
    "        \"\"\"Build a Binary Relevance classifier from the training set (X, y).\n",
    "        Parameters\n",
    "        ----------\n",
    "        X : array-like or sparse matrix, shape = [n_samples, n_features]\n",
    "            The training input samples. Internally, it will be converted to\n",
    "            ``dtype=np.float32`` and if a sparse matrix is provided\n",
    "            to a sparse ``csc_matrix``.\n",
    "        y : array-like, shape = [n_samples, n_labels] \n",
    "            The target values (class labels) as integers or strings.\n",
    "        \"\"\"\n",
    "\n",
    "        # list of individual classifiers\n",
    "        self.models = []\n",
    "       \n",
    "        # for every class label\n",
    "        for label in list(y.columns):\n",
    "            # Check that X and y have correct shape\n",
    "            x_checked, y_checked = check_X_y(X, y[label])\n",
    "            # every classifier is independent of the others\n",
    "            # hence we create a copy of the base classifier instance\n",
    "            base_model = clone(self.base_classifier)\n",
    "            # fit the base model - one model each for Y1, Y2....Y14\n",
    "            basel_model = base_model.fit(x_checked, y_checked)\n",
    "            # add the fitted model list of individual classifiers\n",
    "            self.models.append(base_model)\n",
    "\n",
    "    # The predict function to make a set of predictions for a set of query instances\n",
    "    def predict(self, X):\n",
    "        # check if the models list has been set up\n",
    "        check_is_fitted(self, ['models'])\n",
    "        X = check_array(X)\n",
    "        \n",
    "        all_preds = pd.DataFrame()\n",
    "        i=0\n",
    "        # list of individual classifier predictions\n",
    "        preds = []\n",
    "        \n",
    "        # predict against each fitted model - one model per label\n",
    "        for model in self.models:\n",
    "            pred = model.predict(X)\n",
    "            # add the prediction to the dataframe\n",
    "            preds.append(pd.DataFrame({'Class'+ str(i+1): pred}))\n",
    "            i+=1\n",
    "        \n",
    "        # dataframe with predictions for all class labels\n",
    "        all_preds = pd.concat(preds, axis=1)\n",
    "        # standard sklearn classifiers return predictions as numpy arrays\n",
    "        # hence convert the dataframe to a numpy array\n",
    "        return all_preds.to_numpy()\n",
    "    \n",
    "\n",
    "\n",
    "    def predict_proba(self,X):\n",
    "        # check if the models list has been set up\n",
    "        check_is_fitted(self, ['models'])\n",
    "        X = check_array(X)\n",
    "        \n",
    "        all_preds = pd.DataFrame()\n",
    "        i = 0\n",
    "        \n",
    "        for model in self.models:\n",
    "            # Call predict_proba of the each base model\n",
    "            pred = model.predict_proba(X)\n",
    "            # Add the probabilities of 1 to the dataframe\n",
    "            all_preds['Class'+str(i+1)] = [one_prob[1] for one_prob in pred]\n",
    "            i+=1\n",
    "        \n",
    "        #return probabilities\n",
    "        return all_preds.to_numpy()"
   ]
  },
  {
   "cell_type": "code",
   "execution_count": 13,
   "metadata": {},
   "outputs": [],
   "source": [
    "def accuracy_score(y_test, y_pred):\n",
    "    # y_pred is a numpy array, y_test is a dataframe\n",
    "    # to compare the two, convert to a single type\n",
    "    y_test = y_test.to_numpy()\n",
    "    \n",
    "    # shape of test and preds must be equal\n",
    "    assert y_test.shape == y_pred.shape\n",
    "    i=0\n",
    "    # list of scores for each training sample\n",
    "    scores = []\n",
    "    \n",
    "    # for each test sample\n",
    "    while i < len(y_test):\n",
    "        count=0\n",
    "        # count the number of matches in the sample\n",
    "        # y_test[i] -> row values in test set (true values)\n",
    "        # y_pred[i] -> row values in predictions set (predicted values)\n",
    "        for p, q in zip(y_test[i], y_pred[i]):\n",
    "            if p == q:\n",
    "                count += 1\n",
    "\n",
    "        # accuracy score for the sample = no. of correctly predicted labels/total no. of labels\n",
    "        scores.append(count / y_pred.shape[1])\n",
    "        i+=1 \n",
    "\n",
    "    # final accuracy = avg. accuracy over all test samples =\n",
    "    # sum of the accuracy of all training samples/no. of training samples\n",
    "    return round((sum(scores)/len(y_test)), 5)"
   ]
  },
  {
   "cell_type": "code",
   "execution_count": 14,
   "metadata": {},
   "outputs": [],
   "source": [
    "class BinaryRelevanceClassifierUS(BaseEstimator, ClassifierMixin):\n",
    "    def __init__(self, base_classifier=LogisticRegression(max_iter=20000)):\n",
    "        self.base_classifier=base_classifier\n",
    "\n",
    "    def fit(self, X, y):\n",
    "        \"\"\"Build a Binary Relevance classifier with Under sampling from the training set (X, y).\n",
    "        Parameters\n",
    "        ----------\n",
    "        X : array-like or sparse matrix, shape = [n_samples, n_features]\n",
    "            The training input samples. Internally, it will be converted to\n",
    "            ``dtype=np.float32`` and if a sparse matrix is provided\n",
    "            to a sparse ``csc_matrix``.\n",
    "        y : array-like, shape = [n_samples] \n",
    "            The target values (class labels) as integers or strings.\n",
    "        \"\"\"\n",
    "\n",
    "        # list of individual classifiers\n",
    "        self.models = []\n",
    "        \n",
    "        # for each class label\n",
    "        for label in list(y.columns):\n",
    "            \n",
    "            X_cp = X.copy()\n",
    "            # pick the column values for the label\n",
    "            y_cp = y[label]\n",
    "            \n",
    "            # sampling is done on both X and y, hence join the two dataframes\n",
    "            X_y_data = pd.concat([X_cp, y_cp], axis=1)\n",
    "            \n",
    "            # counters for 0 values and 1 values\n",
    "            n_val0, n_val1 = 0,0\n",
    "            \n",
    "            j=0\n",
    "            # for each sample\n",
    "            while j<len(X_y_data):\n",
    "                # if value for the label is 0\n",
    "                if(X_y_data.iloc[j][label] == 0):\n",
    "                    n_val0+=1\n",
    "                else:\n",
    "                    # value 1\n",
    "                    n_val1+=1\n",
    "                j+=1\n",
    "            \n",
    "            # under sample the majority class\n",
    "            # randomly pick samples from majority class equal to the number of samples in the minority class\n",
    "            # both the classes will have the same number of samples\n",
    "            if n_val0 > n_val1:\n",
    "                # majority 0 values\n",
    "                val1 = X_y_data[X_y_data[label]==1]\n",
    "                val0 = X_y_data[X_y_data[label]==0].sample(n_val1)\n",
    "                \n",
    "                X_y_data = pd.concat([val0, val1], axis=0)\n",
    "            \n",
    "            elif n_val1 > n_val0:\n",
    "                # majority 1 values\n",
    "                val1 = X_y_data[X_y_data[label]==1].sample(n_val0)\n",
    "                val0 = X_y_data[X_y_data[label]==0]\n",
    "                \n",
    "                X_y_data = pd.concat([val0, val1], axis=0)\n",
    "            \n",
    "            # split back into X and y\n",
    "            X_cp = X_y_data.iloc[:, :-1]\n",
    "            y_cp = X_y_data.iloc[:, -1]\n",
    "            \n",
    "            base_model = clone(self.base_classifier)\n",
    "            # fit the base model - one model each for Y1, Y2....Y14\n",
    "            a, b = check_X_y(X_cp, y_cp)\n",
    "            base_model.fit(a, b)\n",
    "            # list of individual classifiers classifiers\n",
    "            self.models.append(base_model)\n",
    "\n",
    "\n",
    "    # The predict function to make a set of predictions for a set of query instances\n",
    "    def predict(self, X):\n",
    "        # check if the models list has been set up\n",
    "        check_is_fitted(self, ['models'])\n",
    "        X = check_array(X)\n",
    "        \n",
    "        all_preds = pd.DataFrame()\n",
    "        i=0\n",
    "        # list of individual classifier predictions\n",
    "        preds = []\n",
    "        \n",
    "        # for every fitted model\n",
    "        for model in self.models:\n",
    "            # predict for X\n",
    "            pred = model.predict(X)\n",
    "            # add to the list of predictions\n",
    "            preds.append(pd.DataFrame({'Class'+ str(i+1): pred}))\n",
    "            i+=1\n",
    "        \n",
    "        # store predictions for each label in a single dataframe\n",
    "        all_preds = pd.concat(preds, axis=1)\n",
    "        # standard sklearn classifiers return predictions as numpy arrays\n",
    "        # hence convert the dataframe to a numpy array\n",
    "        return all_preds.to_numpy()\n",
    "    \n",
    "    \n",
    "    def predict_proba(self,X):\n",
    "        # check if the models list has been set up\n",
    "        check_is_fitted(self, ['models'])\n",
    "        X = check_array(X)\n",
    "        \n",
    "        all_preds = pd.DataFrame()\n",
    "        i = 0\n",
    "        \n",
    "        for model in self.models:\n",
    "            # Call predict_proba of the each base model\n",
    "            pred = model.predict_proba(X)\n",
    "            # Add the probabilities of 1 to the dataframe\n",
    "            all_preds['Class'+str(i+1)] = [one_prob[1] for one_prob in pred]\n",
    "            i+=1\n",
    "        \n",
    "        #return probabilities\n",
    "        return all_preds.to_numpy()"
   ]
  },
  {
   "cell_type": "code",
   "execution_count": 15,
   "metadata": {},
   "outputs": [],
   "source": [
    "class ClassifierChains(BaseEstimator, ClassifierMixin):\n",
    "    def __init__(self, base_classifier=LogisticRegression(max_iter=20000), order=None):\n",
    "        self.base_classifier=base_classifier\n",
    "        self.order = order\n",
    "\n",
    "    def fit(self, X, y):\n",
    "        \"\"\"\n",
    "        Build a Classifier Chain from the training set (X, y).\n",
    "        Parameters\n",
    "        ----------\n",
    "        X : array-like or sparse matrix, shape = [n_samples, n_features]\n",
    "            The training input samples. Internally, it will be converted to\n",
    "            ``dtype=np.float32`` and if a sparse matrix is provided\n",
    "            to a sparse ``csc_matrix``.\n",
    "        y : array-like, shape = [n_samples, n_labels] \n",
    "            The target values (class labels) as integers or strings.\n",
    "\n",
    "        \"\"\"\n",
    "        \n",
    "        # check the order parameter\n",
    "        if self.order is None:\n",
    "            # default value - natural order for number of labels\n",
    "            self.order = list(range(y.shape[1]))\n",
    "        elif self.order == 'random':\n",
    "            # random order\n",
    "            self.order = list(range(y.shape[1]))\n",
    "            random.shuffle(self.order)\n",
    "        else:\n",
    "            # order specified\n",
    "            if(len(self.order)==y.shape[1]):\n",
    "                # expect order from 1, hence reduce 1 to consider zero indexing\n",
    "                self.order = [o - 1 for o in self.order]\n",
    "    \n",
    "        \n",
    "        # list of base models for each class\n",
    "        self.models = [clone(self.base_classifier) for clf in range(y.shape[1])]\n",
    "\n",
    "        # create a copy of X\n",
    "        X_joined = X.copy()\n",
    "       # X_joined.reset_index(drop=True, inplace=True)\n",
    "        \n",
    "        # create a new dataframe with X and y-in the order specified\n",
    "        # if order = [2,4,5,6...] -> X_joined= X, y2, y4, y5...\n",
    "        for val in self.order:\n",
    "            X_joined = pd.concat([X_joined, y['Class'+str(val+1)]], axis=1)\n",
    "\n",
    "        \n",
    "        # for each ith model, fit the model on X + y0 to yi-1 (in the order specified)\n",
    "        # if order = [2,4,6,....] fit 1st model on X for y2, fit second model on X+y2 for y4...\n",
    "        for chain_index, model in enumerate(self.models):\n",
    "            # select values of the class in order\n",
    "            y_vals = y.loc[:, 'Class'+str(self.order[chain_index]+1)]\n",
    "            # pick values for training - X+y upto the current label\n",
    "            t_X = X_joined.iloc[:, :(X.shape[1]+chain_index)]\n",
    "            check_X_y(t_X, y_vals)\n",
    "            # fit the model\n",
    "            model.fit(t_X, y_vals)\n",
    "\n",
    "\n",
    "            \n",
    "    # The predict function to make a set of predictions for a set of query instances\n",
    "    def predict(self, X):\n",
    "        \n",
    "        # check if the models list has been set up\n",
    "        check_is_fitted(self, ['models'])\n",
    "        \n",
    "        # dataframe to maintain previous predictions\n",
    "        pred_chain = pd.DataFrame(columns=['Class'+str(o+1) for o in self.order])\n",
    "        \n",
    "        X_copy = X.copy()\n",
    "        X_joined = X.copy()\n",
    "        \n",
    "        # use default indexing\n",
    "        X_joined.reset_index(drop=True, inplace=True)\n",
    "        X_copy.reset_index(drop=True, inplace=True)\n",
    "\n",
    "        i=0\n",
    "        \n",
    "        # for each ith model, predict based on X + predictions of all models upto i-1\n",
    "        # happens in the specified order since models are already fitted according to the order\n",
    "        for chain_index, model in enumerate(self.models):\n",
    "            # select previous predictions - all columns upto the current index\n",
    "            prev_preds = pred_chain.iloc[:, :chain_index]\n",
    "            # join the previous predictions with X\n",
    "            X_joined = pd.concat([X_copy, prev_preds], axis=1)\n",
    "            # predict on the base model\n",
    "            pred = model.predict(X_joined)\n",
    "            # add the new prediction to the pred chain\n",
    "            pred_chain['Class'+str(self.order[i]+1)] = pred\n",
    "            i+=1\n",
    "\n",
    "        # re-arrange the columns in natural order to return the predictions\n",
    "        pred_chain = pred_chain.loc[:, ['Class'+str(j+1) for j in range(0, len(self.order))]]\n",
    "        # all sklearn implementations return numpy array\n",
    "        # hence convert the dataframe to numpy array\n",
    "        return pred_chain.to_numpy()\n",
    "    \n",
    "    \n",
    "    \n",
    "    # Function to predict probabilities of 1s\n",
    "    def predict_proba(self, X):\n",
    "        # check if the models list has been set up\n",
    "        check_is_fitted(self, ['models'])\n",
    "        \n",
    "        # dataframe to maintain previous predictions\n",
    "        pred_chain = pd.DataFrame(columns=['Class'+str(o+1) for o in self.order])\n",
    "        # dataframe to maintain probabilities of class labels\n",
    "        pred_probs = pd.DataFrame(columns=['Class'+str(o+1) for o in self.order])\n",
    "        X_copy = X.copy()\n",
    "        X_joined = X.copy()\n",
    "        \n",
    "        # use default indexing\n",
    "        X_joined.reset_index(drop=True, inplace=True)\n",
    "        X_copy.reset_index(drop=True, inplace=True)\n",
    "\n",
    "        i=0\n",
    "        \n",
    "        # for each ith model, predict based on X + predictions of all models upto i-1\n",
    "        # happens in the specified order since models are already fitted according to the order\n",
    "        for chain_index, model in enumerate(self.models):\n",
    "            \n",
    "            # select previous predictions - all columns upto the current index\n",
    "            prev_preds = pred_chain.iloc[:, :chain_index]\n",
    "            # join the previous predictions with X\n",
    "            X_joined = pd.concat([X_copy, prev_preds], axis=1)\n",
    "            # predict on the base model\n",
    "            pred = model.predict(X_joined)\n",
    "            # predict probabilities\n",
    "            pred_proba = model.predict_proba(X_joined)\n",
    "            # add the new prediction to the pred chain\n",
    "            pred_chain['Class'+str(self.order[i]+1)] = pred\n",
    "            # save the probabilities of 1 according to label order\n",
    "            pred_probs['Class'+str(self.order[i]+1)] = [one_prob[1] for one_prob in pred_proba]\n",
    "            i+=1\n",
    "\n",
    "        # re-arrange the columns in natural order to return the probabilities\n",
    "        pred_probs = pred_probs.loc[:, ['Class'+str(j+1) for j in range(0, len(self.order))]]\n",
    "        # all sklearn implementations return numpy array\n",
    "        # hence convert the dataframe to numpy array\n",
    "        return pred_probs.to_numpy()"
   ]
  },
  {
   "cell_type": "code",
   "execution_count": 16,
   "metadata": {},
   "outputs": [],
   "source": [
    "\n",
    "to_remove = ['ARS','MXN','OIL','XAU','TRY','INDEX','BTC','TWD','RUB','CHF']\n",
    "df = df.drop(labels=to_remove,axis=1)\n",
    "classes = [cls for cls in classes if cls not in to_remove]\n",
    "df['text_clean'] = df.body.map(lambda x: \" \".join(list(x)) if type(x) is list else \"\" ).map(lambda com : clean_text(com))"
   ]
  },
  {
   "cell_type": "code",
   "execution_count": 17,
   "metadata": {},
   "outputs": [],
   "source": [
    "df[classes].sum(axis=1)\n",
    "df = df.sample(n=3000)\n",
    "train, test = train_test_split(df[(df[classes].sum(axis=1)>0)], random_state=42, test_size=0.50, shuffle=True)"
   ]
  },
  {
   "cell_type": "code",
   "execution_count": null,
   "metadata": {},
   "outputs": [],
   "source": []
  },
  {
   "cell_type": "code",
   "execution_count": 18,
   "metadata": {},
   "outputs": [],
   "source": [
    "# NB_pipeline = Pipeline([\n",
    "#                 ('tfidf', TfidfVectorizer(stop_words=stop_words)),\n",
    "#                 ('clf', OneVsRestClassifier(MultinomialNB(\n",
    "#                     fit_prior=True, class_prior=None))),\n",
    "#             ])\n",
    "# for category in categories:\n",
    "#     print('... Processing {}'.format(category))\n",
    "#     # train the model using X_dtm & y\n",
    "#     NB_pipeline.fit(X_train, train[category])\n",
    "#     # compute the testing accuracy\n",
    "#     prediction = NB_pipeline.predict(X_test)\n",
    "#     print('Test accuracy is {}'.format(accuracy_score(test[category], prediction)))\n",
    "#     print('Balanced Test accuracy is {}'.format(balanced_accuracy_score(test[category], prediction)))"
   ]
  },
  {
   "cell_type": "code",
   "execution_count": 19,
   "metadata": {},
   "outputs": [],
   "source": [
    "# LogReg_pipeline = Pipeline([\n",
    "#                 ('tfidf', TfidfVectorizer(stop_words=stop_words)),\n",
    "#                 ('clf', OneVsRestClassifier(LogisticRegression(solver='sag'), n_jobs=1)),\n",
    "#             ])\n",
    "# for category in categories:\n",
    "#     print('... Processing {}'.format(category))\n",
    "#     # train the model using X_dtm & y\n",
    "#     LogReg_pipeline.fit(X_train, train[category])\n",
    "#     # compute the testing accuracy\n",
    "#     prediction = LogReg_pipeline.predict(X_test)\n",
    "#     print('Test accuracy is {}'.format(accuracy_score(test[category], prediction)))"
   ]
  },
  {
   "cell_type": "code",
   "execution_count": 20,
   "metadata": {},
   "outputs": [],
   "source": [
    "# SVC_pipeline = Pipeline([\n",
    "#                 ('tfidf', TfidfVectorizer(stop_words=stop_words)),\n",
    "#                 ('clf', OneVsRestClassifier(LinearSVC(), n_jobs=1)),\n",
    "#             ])\n",
    "# for category in categories:\n",
    "#     print('... Processing {}'.format(category))\n",
    "#     # train the model using X_dtm & y\n",
    "#     SVC_pipeline.fit(X_train, train[category])\n",
    "#     # compute the testing accuracy\n",
    "#     prediction = SVC_pipeline.predict(X_test)\n",
    "#     print('Test accuracy is {}'.format(accuracy_score(test[category], prediction)))"
   ]
  },
  {
   "cell_type": "code",
   "execution_count": 21,
   "metadata": {},
   "outputs": [
    {
     "data": {
      "text/plain": [
       "TfidfVectorizer(stop_words={'a', 'about', 'above', 'after', 'again', 'against',\n",
       "                            'ain', 'all', 'am', 'an', 'and', 'any', 'are',\n",
       "                            'aren', \"aren't\", 'as', 'at', 'be', 'because',\n",
       "                            'been', 'before', 'being', 'below', 'between',\n",
       "                            'both', 'but', 'by', 'can', 'couldn', \"couldn't\", ...})"
      ]
     },
     "execution_count": 21,
     "metadata": {},
     "output_type": "execute_result"
    }
   ],
   "source": [
    "vectorizer = TfidfVectorizer(stop_words=stop_words)\n",
    "vectorizer.fit(train.text_clean)\n"
   ]
  },
  {
   "cell_type": "code",
   "execution_count": 22,
   "metadata": {},
   "outputs": [],
   "source": [
    "# # using classifier chains\n",
    "# from skmultilearn.problem_transform import ClassifierChain\n",
    "# from sklearn.linear_model import LogisticRegression# initialize classifier chains multi-label classifier\n",
    "# classifier = ClassifierChain(LogisticRegression())# Training logistic regression model on train data\n",
    "# classifier.fit(x, y)# predict\n",
    "# predictions = classifier.predict(vectorizer.transform(X_test))# accuracy\n",
    "# print(\"Accuracy = \",accuracy_score(test.drop(labels=['_id','summary','body','text_clean','classes_target','classes_body','classes_summary','classes_title','title'],axis=1),predictions))\n",
    "# print(\"\\n\")"
   ]
  },
  {
   "cell_type": "code",
   "execution_count": 23,
   "metadata": {},
   "outputs": [],
   "source": [
    "# n =400\n",
    "# listdf = [train[i:i+n] for i in range(0,train.shape[0],n)]\n",
    "\n",
    "# from skmultilearn.problem_transform import BinaryRelevance\n",
    "# from sklearn.naive_bayes import GaussianNB# initialize binary relevance multi-label classifier\n",
    "# # with a gaussian naive bayes base classifier\n",
    "# classifier = BinaryRelevance(GaussianNB())# train\n",
    "# # classifier.fit(x_train, y_train)# predict\n",
    "# # predictions = classifier.predict(x_test)# accuracy\n",
    "# # print(\"Accuracy = \",accuracy_score(y_test,predictions))"
   ]
  },
  {
   "cell_type": "code",
   "execution_count": 24,
   "metadata": {},
   "outputs": [],
   "source": [
    "# for x in listdf:\n",
    "#     X_train = vectorizer.transform(x.text_clean)\n",
    "#     y_train = x.drop(labels=['_id','summary','body','text_clean','classes_target','classes_body','classes_summary','classes_title','title'],axis=1)\n",
    "#     classifier.fit(X_train,y_train)"
   ]
  },
  {
   "cell_type": "code",
   "execution_count": 25,
   "metadata": {},
   "outputs": [],
   "source": [
    "# listdf = [test[i:i+n] for i in range(0,test.shape[0],n)]\n",
    "# predictions = []\n",
    "# for x in listdf:\n",
    "#     predictions.append(classifier.predict(vectorizer.transform(x.text_clean)))"
   ]
  },
  {
   "cell_type": "code",
   "execution_count": 26,
   "metadata": {},
   "outputs": [],
   "source": [
    "# ee = [item[0].toarray()[0] for sub_list in predictions for item in sub_list]"
   ]
  },
  {
   "cell_type": "code",
   "execution_count": 27,
   "metadata": {},
   "outputs": [],
   "source": [
    "# instantiate the classifier\n",
    "br_clf = BinaryRelevanceClassifier(LogisticRegression())\n",
    "# fit\n",
    "br_clf.fit(vectorizer.transform(train.text_clean).toarray(), train[classes])\n",
    "# predict\n"
   ]
  },
  {
   "cell_type": "code",
   "execution_count": 28,
   "metadata": {},
   "outputs": [],
   "source": [
    "y_pred = br_clf.predict(vectorizer.transform(test.text_clean).toarray())"
   ]
  },
  {
   "cell_type": "code",
   "execution_count": 29,
   "metadata": {},
   "outputs": [
    {
     "name": "stdout",
     "output_type": "stream",
     "text": [
      "y_pred.shape: (1189, 8)\n"
     ]
    }
   ],
   "source": [
    "print(\"y_pred.shape: \" + str(y_pred.shape))"
   ]
  },
  {
   "cell_type": "code",
   "execution_count": 30,
   "metadata": {},
   "outputs": [
    {
     "name": "stdout",
     "output_type": "stream",
     "text": [
      "Accuracy of Binary Relevance Classifier: 0.86638\n"
     ]
    }
   ],
   "source": [
    "print(\"Accuracy of Binary Relevance Classifier: \" + str(accuracy_score(test[classes], y_pred)))"
   ]
  },
  {
   "cell_type": "code",
   "execution_count": 31,
   "metadata": {},
   "outputs": [],
   "source": [
    "X_train = vectorizer.transform(train.text_clean).toarray()\n",
    "y_train = train[classes]"
   ]
  },
  {
   "cell_type": "code",
   "execution_count": 32,
   "metadata": {},
   "outputs": [
    {
     "name": "stdout",
     "output_type": "stream",
     "text": [
      "Fitting 5 folds for each of 6 candidates, totalling 30 fits\n",
      "[CV] base_classifier=DecisionTreeClassifier(criterion='entropy', max_depth=15, min_samples_leaf=2) \n"
     ]
    },
    {
     "name": "stderr",
     "output_type": "stream",
     "text": [
      "[Parallel(n_jobs=1)]: Using backend SequentialBackend with 1 concurrent workers.\n"
     ]
    },
    {
     "name": "stdout",
     "output_type": "stream",
     "text": [
      "[CV]  base_classifier=DecisionTreeClassifier(criterion='entropy', max_depth=15, min_samples_leaf=2), total=   7.8s\n",
      "[CV] base_classifier=DecisionTreeClassifier(criterion='entropy', max_depth=15, min_samples_leaf=2) \n"
     ]
    },
    {
     "name": "stderr",
     "output_type": "stream",
     "text": [
      "[Parallel(n_jobs=1)]: Done   1 out of   1 | elapsed:    7.8s remaining:    0.0s\n"
     ]
    },
    {
     "name": "stdout",
     "output_type": "stream",
     "text": [
      "[CV]  base_classifier=DecisionTreeClassifier(criterion='entropy', max_depth=15, min_samples_leaf=2), total=   9.0s\n",
      "[CV] base_classifier=DecisionTreeClassifier(criterion='entropy', max_depth=15, min_samples_leaf=2) \n",
      "[CV]  base_classifier=DecisionTreeClassifier(criterion='entropy', max_depth=15, min_samples_leaf=2), total=   9.2s\n",
      "[CV] base_classifier=DecisionTreeClassifier(criterion='entropy', max_depth=15, min_samples_leaf=2) \n",
      "[CV]  base_classifier=DecisionTreeClassifier(criterion='entropy', max_depth=15, min_samples_leaf=2), total=   8.4s\n",
      "[CV] base_classifier=DecisionTreeClassifier(criterion='entropy', max_depth=15, min_samples_leaf=2) \n",
      "[CV]  base_classifier=DecisionTreeClassifier(criterion='entropy', max_depth=15, min_samples_leaf=2), total=   7.9s\n",
      "[CV] base_classifier=RandomForestClassifier(criterion='entropy') .....\n",
      "[CV]  base_classifier=RandomForestClassifier(criterion='entropy'), total=  23.4s\n",
      "[CV] base_classifier=RandomForestClassifier(criterion='entropy') .....\n",
      "[CV]  base_classifier=RandomForestClassifier(criterion='entropy'), total=  18.9s\n",
      "[CV] base_classifier=RandomForestClassifier(criterion='entropy') .....\n",
      "[CV]  base_classifier=RandomForestClassifier(criterion='entropy'), total=  19.5s\n",
      "[CV] base_classifier=RandomForestClassifier(criterion='entropy') .....\n",
      "[CV]  base_classifier=RandomForestClassifier(criterion='entropy'), total=  21.8s\n",
      "[CV] base_classifier=RandomForestClassifier(criterion='entropy') .....\n",
      "[CV]  base_classifier=RandomForestClassifier(criterion='entropy'), total=  18.9s\n",
      "[CV] base_classifier=LogisticRegression(max_iter=20000) ..............\n",
      "[CV]  base_classifier=LogisticRegression(max_iter=20000), total=   5.4s\n",
      "[CV] base_classifier=LogisticRegression(max_iter=20000) ..............\n",
      "[CV]  base_classifier=LogisticRegression(max_iter=20000), total=   4.9s\n",
      "[CV] base_classifier=LogisticRegression(max_iter=20000) ..............\n",
      "[CV]  base_classifier=LogisticRegression(max_iter=20000), total=   4.4s\n",
      "[CV] base_classifier=LogisticRegression(max_iter=20000) ..............\n",
      "[CV]  base_classifier=LogisticRegression(max_iter=20000), total=   5.0s\n",
      "[CV] base_classifier=LogisticRegression(max_iter=20000) ..............\n",
      "[CV]  base_classifier=LogisticRegression(max_iter=20000), total=   4.7s\n",
      "[CV] base_classifier=GaussianNB() ....................................\n",
      "[CV] ..................... base_classifier=GaussianNB(), total=   2.3s\n",
      "[CV] base_classifier=GaussianNB() ....................................\n",
      "[CV] ..................... base_classifier=GaussianNB(), total=   2.5s\n",
      "[CV] base_classifier=GaussianNB() ....................................\n",
      "[CV] ..................... base_classifier=GaussianNB(), total=   2.7s\n",
      "[CV] base_classifier=GaussianNB() ....................................\n",
      "[CV] ..................... base_classifier=GaussianNB(), total=   2.4s\n",
      "[CV] base_classifier=GaussianNB() ....................................\n",
      "[CV] ..................... base_classifier=GaussianNB(), total=   2.3s\n",
      "[CV] base_classifier=KNeighborsClassifier() ..........................\n",
      "[CV] ........... base_classifier=KNeighborsClassifier(), total=  55.2s\n",
      "[CV] base_classifier=KNeighborsClassifier() ..........................\n",
      "[CV] ........... base_classifier=KNeighborsClassifier(), total=  55.1s\n",
      "[CV] base_classifier=KNeighborsClassifier() ..........................\n",
      "[CV] ........... base_classifier=KNeighborsClassifier(), total=  54.1s\n",
      "[CV] base_classifier=KNeighborsClassifier() ..........................\n",
      "[CV] ........... base_classifier=KNeighborsClassifier(), total=  55.3s\n",
      "[CV] base_classifier=KNeighborsClassifier() ..........................\n",
      "[CV] ........... base_classifier=KNeighborsClassifier(), total=  54.0s\n",
      "[CV] base_classifier=SVC() ...........................................\n",
      "[CV] ............................ base_classifier=SVC(), total= 2.5min\n",
      "[CV] base_classifier=SVC() ...........................................\n",
      "[CV] ............................ base_classifier=SVC(), total= 2.5min\n",
      "[CV] base_classifier=SVC() ...........................................\n",
      "[CV] ............................ base_classifier=SVC(), total= 2.5min\n",
      "[CV] base_classifier=SVC() ...........................................\n",
      "[CV] ............................ base_classifier=SVC(), total= 2.5min\n",
      "[CV] base_classifier=SVC() ...........................................\n",
      "[CV] ............................ base_classifier=SVC(), total= 2.5min\n"
     ]
    },
    {
     "name": "stderr",
     "output_type": "stream",
     "text": [
      "[Parallel(n_jobs=1)]: Done  30 out of  30 | elapsed: 20.1min finished\n"
     ]
    },
    {
     "name": "stdout",
     "output_type": "stream",
     "text": [
      "Best Parameters Found: \n"
     ]
    },
    {
     "data": {
      "text/plain": [
       "{'base_classifier': DecisionTreeClassifier(criterion='entropy', max_depth=15, min_samples_leaf=2)}"
      ]
     },
     "metadata": {},
     "output_type": "display_data"
    },
    {
     "data": {
      "text/plain": [
       "0.9756939999999998"
      ]
     },
     "metadata": {},
     "output_type": "display_data"
    }
   ],
   "source": [
    "cv_folds=5\n",
    "\n",
    "# Set up the parameter grid to search\n",
    "param_grid ={'base_classifier': [DecisionTreeClassifier(criterion='entropy', max_depth=15, min_samples_leaf=2),\n",
    "                                 RandomForestClassifier(criterion='entropy'),\n",
    "                                 LogisticRegression(max_iter=20000), GaussianNB(), KNeighborsClassifier(), SVC()] }\n",
    "\n",
    "# Perform the search\n",
    "# Using the custom accuracy function defined earlier\n",
    "tuned_model = GridSearchCV(BinaryRelevanceClassifier(), \\\n",
    "                            param_grid, scoring=make_scorer(accuracy_score), verbose = 2, cv=cv_folds)\n",
    "tuned_model.fit(X_train, y_train)\n",
    "\n",
    "# Print details of the best model\n",
    "print(\"Best Parameters Found: \")\n",
    "display(tuned_model.best_params_)\n",
    "display(tuned_model.best_score_)"
   ]
  },
  {
   "cell_type": "code",
   "execution_count": 37,
   "metadata": {},
   "outputs": [],
   "source": [
    "class BinaryRelevanceClassifierUS(BaseEstimator, ClassifierMixin):\n",
    "    def __init__(self, base_classifier=LogisticRegression(max_iter=20000)):\n",
    "        self.base_classifier=base_classifier\n",
    "\n",
    "    def fit(self, X, y):\n",
    "        \"\"\"Build a Binary Relevance classifier with Under sampling from the training set (X, y).\n",
    "        Parameters\n",
    "        ----------\n",
    "        X : array-like or sparse matrix, shape = [n_samples, n_features]\n",
    "            The training input samples. Internally, it will be converted to\n",
    "            ``dtype=np.float32`` and if a sparse matrix is provided\n",
    "            to a sparse ``csc_matrix``.\n",
    "        y : array-like, shape = [n_samples] \n",
    "            The target values (class labels) as integers or strings.\n",
    "        \"\"\"\n",
    "\n",
    "        # list of individual classifiers\n",
    "        self.models = []\n",
    "        \n",
    "        # for each class label\n",
    "        for label in list(y.columns):\n",
    "            \n",
    "            X_cp = X.copy()\n",
    "            # pick the column values for the label\n",
    "            y_cp = y[label]\n",
    "            \n",
    "            # sampling is done on both X and y, hence join the two dataframes\n",
    "            X_y_data = pd.concat([X_cp, y_cp], axis=1)\n",
    "            \n",
    "            # counters for 0 values and 1 values\n",
    "            n_val0, n_val1 = 0,0\n",
    "            \n",
    "            j=0\n",
    "            # for each sample\n",
    "            while j<len(X_y_data):\n",
    "                # if value for the label is 0\n",
    "                if(X_y_data.iloc[j][label] == 0):\n",
    "                    n_val0+=1\n",
    "                else:\n",
    "                    # value 1\n",
    "                    n_val1+=1\n",
    "                j+=1\n",
    "            \n",
    "            # under sample the majority class\n",
    "            # randomly pick samples from majority class equal to the number of samples in the minority class\n",
    "            # both the classes will have the same number of samples\n",
    "            if n_val0 > n_val1:\n",
    "                # majority 0 values\n",
    "                val1 = X_y_data[X_y_data[label]==1]\n",
    "                val0 = X_y_data[X_y_data[label]==0].sample(n_val1).reset_index(drop=True)\n",
    "                \n",
    "                X_y_data = pd.concat([val0, val1], axis=0)\n",
    "            \n",
    "            elif n_val1 > n_val0:\n",
    "                # majority 1 values\n",
    "                val1 = X_y_data[X_y_data[label]==1].sample(n_val0).reset_index(drop=True)\n",
    "                val0 = X_y_data[X_y_data[label]==0]\n",
    "                \n",
    "                X_y_data = pd.concat([val0, val1], axis=0)\n",
    "            \n",
    "            # split back into X and y\n",
    "            X_cp = X_y_data.iloc[:, :-1]\n",
    "            y_cp = X_y_data.iloc[:, -1]\n",
    "            \n",
    "            base_model = clone(self.base_classifier)\n",
    "            # fit the base model - one model each for Y1, Y2....Y14\n",
    "            a, b = check_X_y(X_cp, y_cp)\n",
    "            base_model.fit(a, b)\n",
    "            # list of individual classifiers classifiers\n",
    "            self.models.append(base_model)\n",
    "\n",
    "\n",
    "    # The predict function to make a set of predictions for a set of query instances\n",
    "    def predict(self, X):\n",
    "        # check if the models list has been set up\n",
    "        check_is_fitted(self, ['models'])\n",
    "        X = check_array(X)\n",
    "        \n",
    "        all_preds = pd.DataFrame()\n",
    "        i=0\n",
    "        # list of individual classifier predictions\n",
    "        preds = []\n",
    "        \n",
    "        # for every fitted model\n",
    "        for model in self.models:\n",
    "            # predict for X\n",
    "            pred = model.predict(X)\n",
    "            # add to the list of predictions\n",
    "            preds.append(pd.DataFrame({'Class'+ str(i+1): pred}))\n",
    "            i+=1\n",
    "        \n",
    "        # store predictions for each label in a single dataframe\n",
    "        all_preds = pd.concat(preds, axis=1)\n",
    "        # standard sklearn classifiers return predictions as numpy arrays\n",
    "        # hence convert the dataframe to a numpy array\n",
    "        return all_preds.to_numpy()\n",
    "    \n",
    "    \n",
    "    def predict_proba(self,X):\n",
    "        # check if the models list has been set up\n",
    "        check_is_fitted(self, ['models'])\n",
    "        X = check_array(X)\n",
    "        \n",
    "        all_preds = pd.DataFrame()\n",
    "        i = 0\n",
    "        \n",
    "        for model in self.models:\n",
    "            # Call predict_proba of the each base model\n",
    "            pred = model.predict_proba(X)\n",
    "            # Add the probabilities of 1 to the dataframe\n",
    "            all_preds['Class'+str(i+1)] = [one_prob[1] for one_prob in pred]\n",
    "            i+=1\n",
    "        \n",
    "        #return probabilities\n",
    "        return all_preds.to_numpy()\n"
   ]
  },
  {
   "cell_type": "code",
   "execution_count": 34,
   "metadata": {},
   "outputs": [
    {
     "name": "stdout",
     "output_type": "stream",
     "text": [
      "y_pred.shape=(1189, 8)\n"
     ]
    }
   ],
   "source": [
    "brus_clf = BinaryRelevanceClassifierUS()\n",
    "train = train.reset_index()\n",
    "# .\n",
    "brus_clf.fit(pd.DataFrame(vectorizer.transform(train.text_clean).toarray()), train[classes])\n",
    "\n",
    "# predict br_clf.fit(vectorizer.transform(train.text_clean).toarray(), train[classes])\n",
    "y_pred = brus_clf.predict(vectorizer.transform(test.text_clean).toarray())\n",
    "print(\"y_pred.shape=\" + str(y_pred.shape))"
   ]
  },
  {
   "cell_type": "code",
   "execution_count": 35,
   "metadata": {},
   "outputs": [
    {
     "name": "stdout",
     "output_type": "stream",
     "text": [
      "Accuracy of Binary Relevance Classifier with Under-sampling: 0.87048\n"
     ]
    }
   ],
   "source": [
    "print(\"Accuracy of Binary Relevance Classifier with Under-sampling: \" + str(accuracy_score(test[classes], y_pred)))"
   ]
  },
  {
   "cell_type": "code",
   "execution_count": 40,
   "metadata": {},
   "outputs": [
    {
     "ename": "TypeError",
     "evalue": "toarray() got an unexpected keyword argument 'dtype'",
     "output_type": "error",
     "traceback": [
      "\u001b[0;31m---------------------------------------------------------------------------\u001b[0m",
      "\u001b[0;31mTypeError\u001b[0m                                 Traceback (most recent call last)",
      "\u001b[0;32m/tmp/ipykernel_10977/1306403589.py\u001b[0m in \u001b[0;36m<module>\u001b[0;34m\u001b[0m\n\u001b[1;32m     10\u001b[0m tuned_model = GridSearchCV(BinaryRelevanceClassifierUS(), \\\n\u001b[1;32m     11\u001b[0m                             param_grid, scoring=make_scorer(accuracy_score), verbose = 2, cv=cv_folds)\n\u001b[0;32m---> 12\u001b[0;31m \u001b[0mtuned_model\u001b[0m\u001b[0;34m.\u001b[0m\u001b[0mfit\u001b[0m\u001b[0;34m(\u001b[0m\u001b[0mpd\u001b[0m\u001b[0;34m.\u001b[0m\u001b[0mDataFrame\u001b[0m\u001b[0;34m(\u001b[0m\u001b[0mvectorizer\u001b[0m\u001b[0;34m.\u001b[0m\u001b[0mtransform\u001b[0m\u001b[0;34m(\u001b[0m\u001b[0mtrain\u001b[0m\u001b[0;34m.\u001b[0m\u001b[0mtext_clean\u001b[0m\u001b[0;34m)\u001b[0m\u001b[0;34m.\u001b[0m\u001b[0mtoarray\u001b[0m\u001b[0;34m(\u001b[0m\u001b[0mdtype\u001b[0m\u001b[0;34m=\u001b[0m\u001b[0mfloat\u001b[0m\u001b[0;34m)\u001b[0m\u001b[0;34m)\u001b[0m\u001b[0;34m,\u001b[0m \u001b[0mtrain\u001b[0m\u001b[0;34m[\u001b[0m\u001b[0mclasses\u001b[0m\u001b[0;34m]\u001b[0m\u001b[0;34m)\u001b[0m\u001b[0;34m\u001b[0m\u001b[0;34m\u001b[0m\u001b[0m\n\u001b[0m\u001b[1;32m     13\u001b[0m \u001b[0;34m\u001b[0m\u001b[0m\n\u001b[1;32m     14\u001b[0m \u001b[0;31m# Print details of the best model\u001b[0m\u001b[0;34m\u001b[0m\u001b[0;34m\u001b[0m\u001b[0;34m\u001b[0m\u001b[0m\n",
      "\u001b[0;31mTypeError\u001b[0m: toarray() got an unexpected keyword argument 'dtype'"
     ]
    }
   ],
   "source": [
    "cv_folds=5\n",
    "\n",
    "# Set up the parameter grid to search\n",
    "param_grid ={'base_classifier': [DecisionTreeClassifier(criterion='entropy', max_depth=15, min_samples_leaf=2),\n",
    "                                 RandomForestClassifier(criterion='entropy'),\n",
    "                                 LogisticRegression(max_iter=20000), GaussianNB(), KNeighborsClassifier(), SVC()] }\n",
    "\n",
    "# Perform the search\n",
    "# Using the custom accuracy function defined earlier\n",
    "tuned_model = GridSearchCV(BinaryRelevanceClassifierUS(), \\\n",
    "                            param_grid, scoring=make_scorer(accuracy_score), verbose = 2, cv=cv_folds)\n",
    "tuned_model.fit(pd.DataFrame(vectorizer.transform(train.text_clean).toarray()), train[classes])\n",
    "\n",
    "# Print details of the best model\n",
    "print(\"Best Parameters Found: \")\n",
    "display(tuned_model.best_params_)\n",
    "display(tuned_model.best_score_)"
   ]
  },
  {
   "cell_type": "code",
   "execution_count": null,
   "metadata": {},
   "outputs": [],
   "source": []
  }
 ],
 "metadata": {
  "kernelspec": {
   "display_name": "Python 3",
   "language": "python",
   "name": "python3"
  },
  "language_info": {
   "codemirror_mode": {
    "name": "ipython",
    "version": 3
   },
   "file_extension": ".py",
   "mimetype": "text/x-python",
   "name": "python",
   "nbconvert_exporter": "python",
   "pygments_lexer": "ipython3",
   "version": "3.7.13"
  }
 },
 "nbformat": 4,
 "nbformat_minor": 4
}
