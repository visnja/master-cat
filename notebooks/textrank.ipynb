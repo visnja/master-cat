{
 "cells": [
  {
   "cell_type": "code",
   "execution_count": 1,
   "id": "24e1aae3",
   "metadata": {},
   "outputs": [
    {
     "name": "stderr",
     "output_type": "stream",
     "text": [
      "[nltk_data] Downloading package punkt to /home/visnja/nltk_data...\n",
      "[nltk_data]   Package punkt is already up-to-date!\n"
     ]
    }
   ],
   "source": [
    "from gensim.summarization import summarize\n",
    "from gensim.summarization import keywords\n",
    "import nltk\n",
    "import pandas as pd\n",
    "import numpy as np\n",
    "from nltk.tokenize import sent_tokenize\n",
    "nltk.download('punkt')\n",
    "import re\n",
    "import rouge\n"
   ]
  },
  {
   "cell_type": "code",
   "execution_count": 2,
   "id": "cc243c59",
   "metadata": {},
   "outputs": [],
   "source": [
    "from pymongo import MongoClient\n",
    "\n",
    "connection=MongoClient(\"mongodb://localhost:27017/crawler.contents\")\n",
    "\n",
    "db=connection.get_database()\n",
    "articles = pd.DataFrame(list(db.contents.find()))\n",
    "\n",
    "\n",
    "articles = articles.drop(columns=['visited','created_at','contentType','date','icon'])"
   ]
  },
  {
   "cell_type": "code",
   "execution_count": 3,
   "id": "bc55b6af",
   "metadata": {},
   "outputs": [],
   "source": [
    "def textrank(corpus, ratio=0.2):    \n",
    "    try:\n",
    "        s = summarize(corpus,ratio=ratio)\n",
    "        return s\n",
    "    except:\n",
    "        return corpus                    "
   ]
  },
  {
   "cell_type": "code",
   "execution_count": 4,
   "metadata": {},
   "outputs": [],
   "source": [
    "def clean(txt):\n",
    "    txt = re.sub(r'\\d+ min read', '', str(txt), flags=re.IGNORECASE)\n",
    "    txt = re.sub(r'by reuters staff', '', str(txt), flags=re.IGNORECASE) \n",
    "    return txt"
   ]
  },
  {
   "cell_type": "code",
   "execution_count": 5,
   "id": "7b64b757",
   "metadata": {},
   "outputs": [],
   "source": [
    "def evaluate_summary(y_test, predicted):    \n",
    "   rouge_score = rouge.Rouge()    \n",
    "   scores = rouge_score.get_scores(y_test, predicted, avg=True)       \n",
    "   score_1 = round(scores['rouge-1']['f'], 2)    \n",
    "   score_2 = round(scores['rouge-2']['f'], 2)    \n",
    "   score_L = round(scores['rouge-l']['f'], 2)    \n",
    "   print(\"rouge1:\", score_1, \"| rouge2:\", score_2, \"| rougeL:\",\n",
    "         score_2, \"--> avg rouge:\", round(np.mean(\n",
    "         [score_1,score_2,score_L]), 2))"
   ]
  },
  {
   "cell_type": "code",
   "execution_count": 6,
   "metadata": {},
   "outputs": [],
   "source": [
    "articles['text'] = articles['body'].map(lambda x:  \" \".join(x) if type(x) is list else \"\")\n",
    "articles[\"predicted\"] = articles['text'].map(lambda x: clean(x)).map(lambda x: textrank(x,ratio=0.2) )"
   ]
  },
  {
   "cell_type": "code",
   "execution_count": 7,
   "metadata": {},
   "outputs": [],
   "source": [
    "\n",
    "# for i,x in articles.iterrows():\n",
    "#     try:\n",
    "#         evaluate_summary(x[\"summary\"],x[\"predicted\"])\n",
    "#     except Exception as e :\n",
    "#         print(e)"
   ]
  },
  {
   "cell_type": "code",
   "execution_count": 4,
   "metadata": {},
   "outputs": [],
   "source": [
    "from nltk.translate.bleu_score import sentence_bleu\n",
    "from nltk.tokenize import sent_tokenize, word_tokenize"
   ]
  },
  {
   "cell_type": "code",
   "execution_count": 19,
   "metadata": {},
   "outputs": [],
   "source": [
    "for i,x in articles.iterrows():\n",
    "    db.contents.update_one({'_id':x['_id']},{'$set':{'summary_textrank': x['predicted']}})"
   ]
  },
  {
   "cell_type": "code",
   "execution_count": 6,
   "metadata": {},
   "outputs": [
    {
     "data": {
      "text/plain": [
       "0.11994844245208319"
      ]
     },
     "execution_count": 6,
     "metadata": {},
     "output_type": "execute_result"
    }
   ],
   "source": [
    "articles[articles.summary.notnull()].apply((lambda x: sentence_bleu([word_tokenize(x['summary'])],word_tokenize(x['summary_textrank'])) ),axis=1).mean()"
   ]
  },
  {
   "cell_type": "code",
   "execution_count": null,
   "metadata": {},
   "outputs": [],
   "source": []
  }
 ],
 "metadata": {
  "interpreter": {
   "hash": "7e7ceaa750e580a813c58aef83d9f7b4d4da11d505b6ccb1eef25eb56b125c29"
  },
  "kernelspec": {
   "display_name": "Python 3",
   "language": "python",
   "name": "python3"
  },
  "language_info": {
   "codemirror_mode": {
    "name": "ipython",
    "version": 3
   },
   "file_extension": ".py",
   "mimetype": "text/x-python",
   "name": "python",
   "nbconvert_exporter": "python",
   "pygments_lexer": "ipython3",
   "version": "3.7.13"
  }
 },
 "nbformat": 4,
 "nbformat_minor": 5
}
