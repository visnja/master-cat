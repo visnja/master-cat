{
 "cells": [
  {
   "cell_type": "code",
   "execution_count": 1,
   "metadata": {},
   "outputs": [
    {
     "name": "stdout",
     "output_type": "stream",
     "text": [
      "Requirement already satisfied: spacy-dbpedia-spotlight in /home/visnja/anaconda3/envs/python3.7-env/lib/python3.7/site-packages (0.2.2)\n",
      "Requirement already satisfied: spacy>=3 in /home/visnja/anaconda3/envs/python3.7-env/lib/python3.7/site-packages (from spacy-dbpedia-spotlight) (3.2.1)\n",
      "Requirement already satisfied: loguru in /home/visnja/anaconda3/envs/python3.7-env/lib/python3.7/site-packages (from spacy-dbpedia-spotlight) (0.6.0)\n",
      "Requirement already satisfied: numpy>=1.15.0 in /home/visnja/anaconda3/envs/python3.7-env/lib/python3.7/site-packages (from spacy>=3->spacy-dbpedia-spotlight) (1.21.5)\n",
      "Requirement already satisfied: packaging>=20.0 in /home/visnja/anaconda3/envs/python3.7-env/lib/python3.7/site-packages (from spacy>=3->spacy-dbpedia-spotlight) (21.3)\n",
      "Requirement already satisfied: pydantic!=1.8,!=1.8.1,<1.9.0,>=1.7.4 in /home/visnja/anaconda3/envs/python3.7-env/lib/python3.7/site-packages (from spacy>=3->spacy-dbpedia-spotlight) (1.8.2)\n",
      "Requirement already satisfied: typing-extensions<4.0.0.0,>=3.7.4 in /home/visnja/anaconda3/envs/python3.7-env/lib/python3.7/site-packages (from spacy>=3->spacy-dbpedia-spotlight) (3.10.0.2)\n",
      "Requirement already satisfied: langcodes<4.0.0,>=3.2.0 in /home/visnja/anaconda3/envs/python3.7-env/lib/python3.7/site-packages (from spacy>=3->spacy-dbpedia-spotlight) (3.3.0)\n",
      "Requirement already satisfied: spacy-loggers<2.0.0,>=1.0.0 in /home/visnja/anaconda3/envs/python3.7-env/lib/python3.7/site-packages (from spacy>=3->spacy-dbpedia-spotlight) (1.0.1)\n",
      "Requirement already satisfied: catalogue<2.1.0,>=2.0.6 in /home/visnja/anaconda3/envs/python3.7-env/lib/python3.7/site-packages (from spacy>=3->spacy-dbpedia-spotlight) (2.0.6)\n",
      "Requirement already satisfied: wasabi<1.1.0,>=0.8.1 in /home/visnja/anaconda3/envs/python3.7-env/lib/python3.7/site-packages (from spacy>=3->spacy-dbpedia-spotlight) (0.8.2)\n",
      "Requirement already satisfied: requests<3.0.0,>=2.13.0 in /home/visnja/anaconda3/envs/python3.7-env/lib/python3.7/site-packages (from spacy>=3->spacy-dbpedia-spotlight) (2.24.0)\n",
      "Requirement already satisfied: cymem<2.1.0,>=2.0.2 in /home/visnja/anaconda3/envs/python3.7-env/lib/python3.7/site-packages (from spacy>=3->spacy-dbpedia-spotlight) (2.0.5)\n",
      "Requirement already satisfied: thinc<8.1.0,>=8.0.12 in /home/visnja/anaconda3/envs/python3.7-env/lib/python3.7/site-packages (from spacy>=3->spacy-dbpedia-spotlight) (8.0.13)\n",
      "Requirement already satisfied: tqdm<5.0.0,>=4.38.0 in /home/visnja/anaconda3/envs/python3.7-env/lib/python3.7/site-packages (from spacy>=3->spacy-dbpedia-spotlight) (4.63.0)\n",
      "Requirement already satisfied: jinja2 in /home/visnja/anaconda3/envs/python3.7-env/lib/python3.7/site-packages (from spacy>=3->spacy-dbpedia-spotlight) (3.1.1)\n",
      "Requirement already satisfied: srsly<3.0.0,>=2.4.1 in /home/visnja/anaconda3/envs/python3.7-env/lib/python3.7/site-packages (from spacy>=3->spacy-dbpedia-spotlight) (2.4.1)\n",
      "Requirement already satisfied: murmurhash<1.1.0,>=0.28.0 in /home/visnja/anaconda3/envs/python3.7-env/lib/python3.7/site-packages (from spacy>=3->spacy-dbpedia-spotlight) (1.0.5)\n",
      "Requirement already satisfied: spacy-legacy<3.1.0,>=3.0.8 in /home/visnja/anaconda3/envs/python3.7-env/lib/python3.7/site-packages (from spacy>=3->spacy-dbpedia-spotlight) (3.0.8)\n",
      "Requirement already satisfied: preshed<3.1.0,>=3.0.2 in /home/visnja/anaconda3/envs/python3.7-env/lib/python3.7/site-packages (from spacy>=3->spacy-dbpedia-spotlight) (3.0.5)\n",
      "Requirement already satisfied: typer<0.5.0,>=0.3.0 in /home/visnja/anaconda3/envs/python3.7-env/lib/python3.7/site-packages (from spacy>=3->spacy-dbpedia-spotlight) (0.4.0)\n",
      "Requirement already satisfied: pathy>=0.3.5 in /home/visnja/anaconda3/envs/python3.7-env/lib/python3.7/site-packages (from spacy>=3->spacy-dbpedia-spotlight) (0.6.0)\n",
      "Requirement already satisfied: setuptools in /home/visnja/anaconda3/envs/python3.7-env/lib/python3.7/site-packages (from spacy>=3->spacy-dbpedia-spotlight) (61.2.0)\n",
      "Requirement already satisfied: blis<0.8.0,>=0.4.0 in /home/visnja/anaconda3/envs/python3.7-env/lib/python3.7/site-packages (from spacy>=3->spacy-dbpedia-spotlight) (0.7.4)\n",
      "Requirement already satisfied: zipp>=0.5 in /home/visnja/anaconda3/envs/python3.7-env/lib/python3.7/site-packages (from catalogue<2.1.0,>=2.0.6->spacy>=3->spacy-dbpedia-spotlight) (3.7.0)\n",
      "Requirement already satisfied: pyparsing!=3.0.5,>=2.0.2 in /home/visnja/anaconda3/envs/python3.7-env/lib/python3.7/site-packages (from packaging>=20.0->spacy>=3->spacy-dbpedia-spotlight) (3.0.4)\n",
      "Requirement already satisfied: smart-open<6.0.0,>=5.0.0 in /home/visnja/anaconda3/envs/python3.7-env/lib/python3.7/site-packages (from pathy>=0.3.5->spacy>=3->spacy-dbpedia-spotlight) (5.1.0)\n",
      "Requirement already satisfied: certifi>=2017.4.17 in /home/visnja/anaconda3/envs/python3.7-env/lib/python3.7/site-packages (from requests<3.0.0,>=2.13.0->spacy>=3->spacy-dbpedia-spotlight) (2022.6.15)\n",
      "Requirement already satisfied: idna<3,>=2.5 in /home/visnja/anaconda3/envs/python3.7-env/lib/python3.7/site-packages (from requests<3.0.0,>=2.13.0->spacy>=3->spacy-dbpedia-spotlight) (2.10)\n",
      "Requirement already satisfied: urllib3!=1.25.0,!=1.25.1,<1.26,>=1.21.1 in /home/visnja/anaconda3/envs/python3.7-env/lib/python3.7/site-packages (from requests<3.0.0,>=2.13.0->spacy>=3->spacy-dbpedia-spotlight) (1.25.11)\n",
      "Requirement already satisfied: chardet<4,>=3.0.2 in /home/visnja/anaconda3/envs/python3.7-env/lib/python3.7/site-packages (from requests<3.0.0,>=2.13.0->spacy>=3->spacy-dbpedia-spotlight) (3.0.4)\n",
      "Requirement already satisfied: click<9.0.0,>=7.1.1 in /home/visnja/anaconda3/envs/python3.7-env/lib/python3.7/site-packages (from typer<0.5.0,>=0.3.0->spacy>=3->spacy-dbpedia-spotlight) (8.0.4)\n",
      "Requirement already satisfied: importlib-metadata in /home/visnja/anaconda3/envs/python3.7-env/lib/python3.7/site-packages (from click<9.0.0,>=7.1.1->typer<0.5.0,>=0.3.0->spacy>=3->spacy-dbpedia-spotlight) (4.11.3)\n",
      "Requirement already satisfied: MarkupSafe>=2.0 in /home/visnja/anaconda3/envs/python3.7-env/lib/python3.7/site-packages (from jinja2->spacy>=3->spacy-dbpedia-spotlight) (2.1.1)\n"
     ]
    },
    {
     "name": "stderr",
     "output_type": "stream",
     "text": [
      "/home/visnja/anaconda3/envs/python3.7-env/lib/python3.7/site-packages/tqdm/auto.py:22: TqdmWarning: IProgress not found. Please update jupyter and ipywidgets. See https://ipywidgets.readthedocs.io/en/stable/user_install.html\n",
      "  from .autonotebook import tqdm as notebook_tqdm\n"
     ]
    },
    {
     "data": {
      "text/plain": [
       "<spacy_dbpedia_spotlight.entity_linker.EntityLinker at 0x7fb48ee90190>"
      ]
     },
     "execution_count": 1,
     "metadata": {},
     "output_type": "execute_result"
    }
   ],
   "source": [
    "!pip install spacy-dbpedia-spotlight\n",
    "import pandas as pd\n",
    "import en_core_web_lg\n",
    "nlp =  en_core_web_lg.load()\n",
    "import numpy as np\n",
    "np.random.seed(0)\n",
    "from pymongo import MongoClient\n",
    "from spacy.matcher import Matcher\n",
    "from spacy.tokenizer import Tokenizer\n",
    "import spacy_dbpedia_spotlight\n",
    "import spacy\n",
    "# load your model as usual\n",
    "nlp = spacy.load('en_core_web_lg')\n",
    "# add the pipeline stage\n",
    "nlp.add_pipe('dbpedia_spotlight')"
   ]
  },
  {
   "cell_type": "code",
   "execution_count": 2,
   "id": "62d5d4d1-b0de-44b0-9403-7d6f1afe2ba4",
   "metadata": {
    "scrolled": true
   },
   "outputs": [],
   "source": [
    "connection=MongoClient(\"mongodb://localhost:27017/crawler.contents\")\n",
    "db=connection.get_database()\n",
    "\n"
   ]
  },
  {
   "cell_type": "code",
   "execution_count": 3,
   "metadata": {},
   "outputs": [],
   "source": [
    "articles = pd.DataFrame(list(db.contents.find()))\n",
    "articles = articles.drop(columns=['visited','alternateImageUrl','created_at','contentType','date','icon','publishedAt','source','url'])"
   ]
  },
  {
   "cell_type": "code",
   "execution_count": 4,
   "metadata": {},
   "outputs": [
    {
     "name": "stdout",
     "output_type": "stream",
     "text": [
      "Risk currencies recover from Friday carnage, dollar consolidates\n",
      "Entities [('Friday', 'DATE', ''), ('carnage', 'DBPEDIA_ENT', 'http://dbpedia.org/resource/Cletus_Kasady'), ('dollar', 'DBPEDIA_ENT', 'http://dbpedia.org/resource/Dollar')]\n"
     ]
    }
   ],
   "source": [
    "doc = nlp(articles['title'][0])\n",
    "print(articles['title'][0])\n",
    "print('Entities', [(ent.text, ent.label_, ent.kb_id_) for ent in doc.ents])"
   ]
  },
  {
   "cell_type": "code",
   "execution_count": 5,
   "metadata": {},
   "outputs": [
    {
     "name": "stdout",
     "output_type": "stream",
     "text": [
      "The Australian dollar and other riskier currencies recovered some lost ground against the U.S. dollar on Monday, after suffering their biggest plunges in a year at the end of last week amid a hefty sell-off in global bond markets.\n",
      "Entities [('Australian dollar', 'DBPEDIA_ENT', 'http://dbpedia.org/resource/Australian_dollar'), ('U.S. dollar', 'DBPEDIA_ENT', 'http://dbpedia.org/resource/United_States_dollar')]\n"
     ]
    }
   ],
   "source": [
    "doc = nlp(articles['summary'][0])\n",
    "print(articles['summary'][0])\n",
    "print('Entities', [(ent.text, ent.label_, ent.kb_id_) for ent in doc.ents])"
   ]
  },
  {
   "cell_type": "code",
   "execution_count": 6,
   "metadata": {},
   "outputs": [
    {
     "name": "stdout",
     "output_type": "stream",
     "text": [
      "Entities [('Federal Reserve', 'DBPEDIA_ENT', 'http://dbpedia.org/resource/Federal_Reserve'), ('REUTERS', 'DBPEDIA_ENT', 'http://dbpedia.org/resource/Reuters'), ('Lamarque', 'DBPEDIA_ENT', 'http://dbpedia.org/resource/Jean_Maximilien_Lamarque'), ('Reuters', 'DBPEDIA_ENT', 'http://dbpedia.org/resource/Reuters'), ('turbulence', 'DBPEDIA_ENT', 'http://dbpedia.org/resource/Turbulence'), ('pandemic', 'DBPEDIA_ENT', 'http://dbpedia.org/resource/Pandemic'), ('inflation', 'DBPEDIA_ENT', 'http://dbpedia.org/resource/Inflation'), ('Federal Reserve', 'DBPEDIA_ENT', 'http://dbpedia.org/resource/Federal_Reserve'), ('interest rate', 'DBPEDIA_ENT', 'http://dbpedia.org/resource/Interest_rate'), ('European Central Bank', 'DBPEDIA_ENT', 'http://dbpedia.org/resource/European_Central_Bank'), ('Japan', 'DBPEDIA_ENT', 'http://dbpedia.org/resource/Economy_of_Japan'), ('pandemic', 'DBPEDIA_ENT', 'http://dbpedia.org/resource/Pandemic'), ('interest rate', 'DBPEDIA_ENT', 'http://dbpedia.org/resource/Interest_rate'), ('Swiss National Bank', 'DBPEDIA_ENT', 'http://dbpedia.org/resource/Swiss_National_Bank'), ('Swiss', 'DBPEDIA_ENT', 'http://dbpedia.org/resource/Switzerland'), ('inflation', 'DBPEDIA_ENT', 'http://dbpedia.org/resource/Inflation'), ('expansionary monetary policy', 'DBPEDIA_ENT', 'http://dbpedia.org/resource/Monetary_policy'), ('price stability', 'DBPEDIA_ENT', 'http://dbpedia.org/resource/Price_stability'), ('Swiss', 'DBPEDIA_ENT', 'http://dbpedia.org/resource/Switzerland'), ('coronavirus', 'DBPEDIA_ENT', 'http://dbpedia.org/resource/Severe_acute_respiratory_syndrome_coronavirus_2'), ('pandemic', 'DBPEDIA_ENT', 'http://dbpedia.org/resource/Pandemic'), ('Norway', 'DBPEDIA_ENT', 'http://dbpedia.org/resource/Norway'), ('GMT', 'DBPEDIA_ENT', 'http://dbpedia.org/resource/Greenwich_Mean_Time'), ('big central', 'DBPEDIA_ENT', 'http://dbpedia.org/resource/Big_Central_Soccer_Conference'), ('United Kingdom', 'DBPEDIA_ENT', 'http://dbpedia.org/resource/United_Kingdom'), ('friction', 'DBPEDIA_ENT', 'http://dbpedia.org/resource/Friction'), ('Omicron', 'DBPEDIA_ENT', 'http://dbpedia.org/resource/University_of_Pittsburgh'), ('inflation', 'DBPEDIA_ENT', 'http://dbpedia.org/resource/Inflation'), ('coronavirus', 'DBPEDIA_ENT', 'http://dbpedia.org/resource/Severe_acute_respiratory_syndrome_coronavirus_2'), ('pandemic', 'DBPEDIA_ENT', 'http://dbpedia.org/resource/Pandemic'), ('Prime Minister', 'DBPEDIA_ENT', 'http://dbpedia.org/resource/Prime_Minister_of_the_United_Kingdom'), ('Boris Johnson', 'DBPEDIA_ENT', 'http://dbpedia.org/resource/Boris_Johnson'), ('impose', 'DBPEDIA_ENT', 'http://dbpedia.org/resource/Impose_(magazine)'), (\"Purchasing Managers' Index\", 'DBPEDIA_ENT', \"http://dbpedia.org/resource/Purchasing_Managers'_Index\"), ('Omicron', 'DBPEDIA_ENT', 'http://dbpedia.org/resource/University_of_Pittsburgh'), ('British', 'DBPEDIA_ENT', 'http://dbpedia.org/resource/United_Kingdom'), ('inflation', 'DBPEDIA_ENT', 'http://dbpedia.org/resource/Inflation'), ('inflation', 'DBPEDIA_ENT', 'http://dbpedia.org/resource/Inflation'), ('Omicron', 'DBPEDIA_ENT', 'http://dbpedia.org/resource/University_of_Pittsburgh'), ('Henderson', 'DBPEDIA_ENT', 'http://dbpedia.org/resource/Gerald_Henderson_Jr.'), ('Investec', 'DBPEDIA_ENT', 'http://dbpedia.org/resource/Investec'), ('ECB', 'DBPEDIA_ENT', 'http://dbpedia.org/resource/European_Central_Bank'), ('euro zone', 'DBPEDIA_ENT', 'http://dbpedia.org/resource/Eurozone'), ('ECB', 'DBPEDIA_ENT', 'http://dbpedia.org/resource/European_Central_Bank'), ('inflation', 'DBPEDIA_ENT', 'http://dbpedia.org/resource/Inflation'), ('ECB', 'DBPEDIA_ENT', 'http://dbpedia.org/resource/European_Central_Bank'), ('inflation', 'DBPEDIA_ENT', 'http://dbpedia.org/resource/Inflation'), ('Japan', 'DBPEDIA_ENT', 'http://dbpedia.org/resource/Economy_of_Japan'), ('inflation', 'DBPEDIA_ENT', 'http://dbpedia.org/resource/Inflation'), ('Powell', 'DBPEDIA_ENT', 'http://dbpedia.org/resource/Lewis_F._Powell_Jr.'), ('Vincent Reinhart', 'DBPEDIA_ENT', 'http://dbpedia.org/resource/Vincent_Reinhart'), ('Mellon', 'DBPEDIA_ENT', 'http://dbpedia.org/resource/Andrew_Mellon'), ('Reuters', 'DBPEDIA_ENT', 'http://dbpedia.org/resource/Reuters'), ('Trust Principles', 'DBPEDIA_ENT', 'http://dbpedia.org/resource/Trust_deed_of_Brahmo_Sabha')]\n"
     ]
    }
   ],
   "source": [
    "doc = nlp(articles['body'].map(lambda x: \" \".join(x) if type(x) is list else \"\")[2])\n",
    "# print(articles['body'][0])\n",
    "print('Entities', [(ent.text, ent.label_, ent.kb_id_) for ent in doc.ents])"
   ]
  },
  {
   "cell_type": "code",
   "execution_count": 7,
   "metadata": {},
   "outputs": [
    {
     "name": "stdout",
     "output_type": "stream",
     "text": [
      "['Federal Reserve in Washington, U.S., November 22, 2021. REUTERS/Kevin Lamarque/File Photo', 'Dec 16 (Reuters) - Top central banks will on Thursday unveil policy moves to steer their economies through rising turbulence from the pandemic and high inflation, with some set to keep money cheap into 2022 even as the U.S. Federal Reserve tightens.', 'The Fed on Wednesday doubled the pace at which it will cut bond purchases, while forecasts from its policymakers signalled as many as three interest rate increases next year. read more', 'Which of its peers are ready to follow will become clear in the next 24 hours, with a string of meetings at the Bank of England, European Central Bank, the Bank of Japan and others. read more', 'Of those three, however, only the BoE is likely to take more than a baby step in trimming the monumental support provided to its economy through the pandemic.', 'That could set the stage for a choppy 2022, with the Fed determined to end its asset purchases as fast as possible and kick off interest rate rises soon after, and others more hesitant to shift so decisively in that direction.', 'Earlier on Thursday the Swiss National Bank kept its ultra-loose stance in place with a policy rate locked in at -0.75%. Swiss inflation - while rising - is still seen much lower than elsewhere at just 1% next year, falling to 0.6% in 2023.', '\"The SNB is maintaining its expansionary monetary policy,\" it said in a statement. \"It is thus ensuring price stability and supporting the Swiss economy in its recovery from the impact of the coronavirus pandemic.\" read more', \"Norway's central bank, which had hiked in September on the back of an economic rebound, went ahead with a further rise as expected and said more were likely to follow. read more\", 'Eyes now turn to the BoE, which at 1200 GMT could become the first of the big central banks to raise interest rates. Yet the United Kingdom is also where friction between the fast-spreading Omicron variant and inflation is playing out most vividly.', 'UK daily coronavirus infections are at their highest since the earliest days of the pandemic, forcing Prime Minister Boris Johnson this week to impose new restrictions.', \"A first read-out of the Purchasing Managers' Index (PMI) for December on Thursday showed Omicron had already hit British hospitality and travel firms - a day after data showed consumer price inflation at a decade-high read more\", '\"There is now the real risk of inflation becoming entrenched ... but this is balanced against the threat to the economic recovery from the new Omicron variant,\" said Ellie Henderson, an economist at bank Investec.', 'CAUTION, MODESTY', 'Investors and economists are not expecting anything nearly as bold this week from either the BOJ or ECB - the more so after the preliminary PMI for the euro zone also showed business growth slipping in December. read more', 'The ECB, which has undershot its inflation target for most of the past decade, is expected to be among the last to tighten policy and debate is focused instead on how to structure a more modest dialling-back of overall stimulus.', \"The ECB's compromise is likely to be clarity on its policy framework in 2022, with details to be filled in as policymakers gain confidence that inflation, now running at more than twice the bank's 2% target level, comes down quickly in 2022.\", 'What appears certain is that bond buys under a 1.85 trillion euro Pandemic Emergency Purchase Programme will be reduced next quarter then wound down at the end of March. A long-running Asset Purchase Programme, however, will be ramped up, offsetting some of this lost stimulus.', \"In Japan, the consumer-level inflation that is tearing through other parts of the globe remains largely absent. As such, only a marginal reduction in corporate asset purchases is under discussion at Friday's BOJ meeting.\", \"Even if the others are not hard on the Fed's heels, Powell and the Fed appear to have set the agenda for a tumultuous 2022 as central bankers chart their ways to the exits, albeit at dramatically different paces.\", '\"You saw it in his congressional remarks that were more about tightening sooner than it was about worrying about the health of the global economy,\" said Vincent Reinhart, chief economist for Dreyfuss & Mellon. The Fed and other central banks are \"conveying a sense that they are heading for the exits. Modern central banking is much about managing expectations and they do not want to be seen as behind the curve.\"', 'Our Standards: The Thomson Reuters Trust Principles.']\n"
     ]
    }
   ],
   "source": [
    "print(articles['body'][2])"
   ]
  }
 ],
 "metadata": {
  "kernelspec": {
   "display_name": "Python 3",
   "language": "python",
   "name": "python3"
  },
  "language_info": {
   "codemirror_mode": {
    "name": "ipython",
    "version": 3
   },
   "file_extension": ".py",
   "mimetype": "text/x-python",
   "name": "python",
   "nbconvert_exporter": "python",
   "pygments_lexer": "ipython3",
   "version": "3.7.13"
  }
 },
 "nbformat": 4,
 "nbformat_minor": 5
}
